{
 "cells": [
  {
   "cell_type": "markdown",
   "metadata": {},
   "source": [
    "# Week 6 Quiz\n",
    "\n",
    "## [Name] - [UNI]\n",
    "\n",
    "### Due Mon Nov 11th, 11:59pm ET\n",
    "\n",
    "In this quiz we'll be loading some data, training a few models and plotting their decision boundaries to visually compare how the models perform.\n",
    "\n",
    "### Instructions\n",
    "\n",
    "Replace the Name and UNI in cell above and the notebook filename\n",
    "\n",
    "Replace all '____' below using the instructions provided.\n",
    "\n",
    "When completed, \n",
    " 1. make sure you've replaced Name and UNI in the first cell and filename\n",
    " 2. Kernel -> Restart & Run All to run all cells in order \n",
    " 3. Print Preview -> Print (Landscape Layout) -> Save to pdf \n",
    " 4. post pdf to GradeScope"
   ]
  },
  {
   "cell_type": "code",
   "execution_count": null,
   "metadata": {},
   "outputs": [],
   "source": [
    "import pandas as pd\n",
    "import numpy as np\n",
    "import matplotlib.pyplot as plt\n",
    "import seaborn as sns\n",
    "\n",
    "from sklearn import datasets\n",
    "from mlxtend.plotting import plot_decision_regions\n",
    "\n",
    "import warnings\n",
    "warnings.filterwarnings('ignore') # sklearn complains about predicting on data \n",
    "                                  # without column-names when trained on a dataframe\n",
    "\n",
    "sns.set_style('darkgrid')\n",
    "%matplotlib inline"
   ]
  },
  {
   "cell_type": "code",
   "execution_count": null,
   "metadata": {},
   "outputs": [],
   "source": [
    "# For this quiz we'll be using a sample of vehicle data taken from:\n",
    "#   https://www.fueleconomy.gov/feg/ws/\n",
    "\n",
    "# We'll be classifying Front-Wheel vs 4-Wheel Drive vehicles \n",
    "#   by City and Highway miles per gallon (MPG)\n",
    "\n",
    "# Column Definitions:\n",
    "#  UCity - city MPG\n",
    "#  UHighway - highway MPG\n",
    "#  target - 0:\"Front-Wheel Drive\", 1:\"4-Wheel or All-Wheel Drive\"\n",
    "\n",
    "df = pd.read_csv('../data/vehicle_subset_quiz6.csv')"
   ]
  },
  {
   "cell_type": "code",
   "execution_count": null,
   "metadata": {},
   "outputs": [],
   "source": [
    "# The two features we want to classify on are \"UCity\" and \"UHighway\"\n",
    "# Store these two feature columns from df in X\n",
    "____\n",
    "\n",
    "# Check to make sure that X only has 100 rows and 2 columns\n",
    "assert X.shape == (100,2)\n",
    "\n",
    "# Store the target column \"target\" in y\n",
    "____\n",
    "\n",
    "# Check to make sure that y is 1 dimensional with 100 elements\n",
    "assert y.shape == (100,)\n",
    "\n",
    "# Print out the number of observations per target\n",
    "# Note that each class should have 50 observations.\n",
    "____"
   ]
  },
  {
   "cell_type": "code",
   "execution_count": null,
   "metadata": {},
   "outputs": [],
   "source": [
    "# Import LogisticRegression from sklearn.linear_model\n",
    "____\n",
    "\n",
    "# Instantiate the LogisticRegression model with default settings\n",
    "# Store the untrained model in logr\n",
    "____\n",
    "\n",
    "# Fit the model on on X and y\n",
    "____\n",
    "\n",
    "# Plot the training set and trained classifier with \n",
    "#   plot_decision_regions() \n",
    "# NOTE: plot_decision_regions() requires numpy arrays, not pandas objects\n",
    "#   use X.values, y.values to pass in numpy arrays\n",
    "____"
   ]
  },
  {
   "cell_type": "code",
   "execution_count": null,
   "metadata": {},
   "outputs": [],
   "source": [
    "# Import KNeighborsClassifier from sklearn.neighbors\n",
    "____\n",
    "\n",
    "# Instantiate the KNeighborsClassifier model with default settings\n",
    "#   and fit on X and y\n",
    "# Store the trained model in knn\n",
    "____\n",
    "\n",
    "# Plot the training set and trained classifier with plot_decision_regions()\n",
    "____"
   ]
  },
  {
   "cell_type": "code",
   "execution_count": null,
   "metadata": {},
   "outputs": [],
   "source": [
    "# Import GradientBoostingClassifier from sklearn.ensemble\n",
    "____\n",
    "\n",
    "# Instantiate the GradientBoostingClassifier with default settings\n",
    "#   and fit on X and y\n",
    "# Store the trained model in gbc\n",
    "____\n",
    "\n",
    "# Plot the training set and trained classifier with plot_decision_regions()\n",
    "____"
   ]
  }
 ],
 "metadata": {
  "kernelspec": {
   "display_name": "eods-f22",
   "language": "python",
   "name": "eods-f22"
  },
  "language_info": {
   "codemirror_mode": {
    "name": "ipython",
    "version": 3
   },
   "file_extension": ".py",
   "mimetype": "text/x-python",
   "name": "python",
   "nbconvert_exporter": "python",
   "pygments_lexer": "ipython3",
   "version": "3.10.6"
  },
  "toc": {
   "base_numbering": 1,
   "nav_menu": {},
   "number_sections": false,
   "sideBar": true,
   "skip_h1_title": false,
   "title_cell": "Table of Contents",
   "title_sidebar": "Contents",
   "toc_cell": false,
   "toc_position": {},
   "toc_section_display": true,
   "toc_window_display": false
  }
 },
 "nbformat": 4,
 "nbformat_minor": 4
}
