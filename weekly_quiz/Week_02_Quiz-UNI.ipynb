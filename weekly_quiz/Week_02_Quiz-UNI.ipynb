{
 "cells": [
  {
   "cell_type": "markdown",
   "metadata": {},
   "source": [
    "# Week 2 Quiz\n",
    "\n",
    "## Name - UNI"
   ]
  },
  {
   "cell_type": "markdown",
   "metadata": {},
   "source": [
    "### Instructions\n",
    "\n",
    "Replace the Name and UNI in cell above and the notebook filename\n",
    "\n",
    "Replace all '____' below using the instructions provided.\n",
    "\n",
    "When completed, \n",
    " - make sure you've replaced Name and UNI in the first cell and filename  (eg: Week_02_Quiz-ac5562)\n",
    " - Kernel->Restart & Run All to run all cells in order \n",
    " - use Print Preview, Print-> Save to pdf \n",
    " - post pdf to GradeScope"
   ]
  },
  {
   "cell_type": "markdown",
   "metadata": {},
   "source": [
    "---"
   ]
  },
  {
   "cell_type": "markdown",
   "metadata": {},
   "source": [
    "## 1. Lists"
   ]
  },
  {
   "cell_type": "code",
   "execution_count": null,
   "metadata": {},
   "outputs": [],
   "source": [
    "# Create a list containing the strings 'blue','red','green'\n",
    "colors = ____\n",
    "\n",
    "# Assert that value at index 0 of the list colors is equal to 'blue'\n",
    "____\n",
    "\n",
    "# Using list indexing, print out the value of colors at index 1\n",
    "# You should see the output \"red\" without quotes\n",
    "print(____)"
   ]
  },
  {
   "cell_type": "markdown",
   "metadata": {},
   "source": [
    "## 2. Dicts"
   ]
  },
  {
   "cell_type": "code",
   "execution_count": null,
   "metadata": {},
   "outputs": [],
   "source": [
    "# Create a dictionary which maps the string keys 'zero','one','two'\n",
    "#    to the int values 0,1,2\n",
    "str_to_int = ____\n",
    "\n",
    "# Assert that the value returned for key 'two' equals 2 in str_to_int\n",
    "____\n",
    "\n",
    "# Using str_to_int, print out the value for the key 'one'\n",
    "# You should see the output 1\n",
    "print(____)"
   ]
  },
  {
   "cell_type": "markdown",
   "metadata": {},
   "source": [
    "## 3. String Formatting And For Loops"
   ]
  },
  {
   "cell_type": "code",
   "execution_count": null,
   "metadata": {},
   "outputs": [],
   "source": [
    "# Using the len function and f\"\" string formatting, print the number of elements in colors defined above.\n",
    "print(f\"the length of colors is {____}\")\n",
    "\n",
    "# Using the enumerate function, the colors list defined above, and f\"\" string formatting\n",
    "#   for every index,value pair from enumerate(colors)\n",
    "#   print \"the value at index {index} is {value}\"\n",
    "#   Ex: \n",
    "#     the value at index 0 is blue\n",
    "#     the value at index 1 is red\n",
    "#     the value at index 2 is green\n",
    "for ____,____ in ____:\n",
    "    print(____)"
   ]
  },
  {
   "cell_type": "markdown",
   "metadata": {},
   "source": [
    "## 4. List Comprehension"
   ]
  },
  {
   "cell_type": "code",
   "execution_count": null,
   "metadata": {},
   "outputs": [],
   "source": [
    "# Using a list comprehension and the len() function,\n",
    "#    create a list of the character lengths of each of the strings in colors (eg. 'blue' -> 4)\n",
    "# Store the resulting list in variable color_lengths\n",
    "color_lengths = ____\n",
    "\n",
    "# Assert that the first value in color_lengths is 4 (the length of 'blue')\n",
    "____"
   ]
  },
  {
   "cell_type": "markdown",
   "metadata": {},
   "source": [
    "## 5. Functions and Control Flow"
   ]
  },
  {
   "cell_type": "code",
   "execution_count": null,
   "metadata": {},
   "outputs": [],
   "source": [
    "# Define a function called append_even_odd\n",
    "# It should expect to take in a string\n",
    "#    if the string is empty (has length of 0), return 'empty'\n",
    "#    else if the string has an even number of characters, return the string with '_even' added to the end \n",
    "#    else if the string has an odd number of characters, return the string with '_odd' added to the end\n",
    "# For example: 'blue' should become 'blue_even'\n",
    "____\n",
    "\n",
    "\n",
    "assert append_even_odd('test') == 'test_even'\n",
    "assert append_even_odd('one') == 'one_odd'\n",
    "assert append_even_odd('') == 'empty'"
   ]
  },
  {
   "cell_type": "markdown",
   "metadata": {},
   "source": [
    "## 6. Sorting"
   ]
  },
  {
   "cell_type": "code",
   "execution_count": null,
   "metadata": {},
   "outputs": [],
   "source": [
    "# Using sorted(), sort the list color_lengths created above, descending in value (reverse=True)\n",
    "# Save as color_lengths_sorted\n",
    "color_lengths_sorted = ____\n",
    "\n",
    "# Assert that the last element of color_lengths_sorted is 3\n",
    "____"
   ]
  },
  {
   "cell_type": "markdown",
   "metadata": {},
   "source": [
    "---"
   ]
  },
  {
   "cell_type": "markdown",
   "metadata": {},
   "source": [
    "### For More Practice (not required):"
   ]
  },
  {
   "cell_type": "code",
   "execution_count": null,
   "metadata": {},
   "outputs": [],
   "source": [
    "# Create a list of the key,value pairs in the str_to_int dictionary sorted by value, decending\n",
    "# str_to_int_sorted = ____\n",
    "\n",
    "# assert that the first element of str_to_int_sorted is ('two',2)\n",
    "# ____"
   ]
  }
 ],
 "metadata": {
  "kernelspec": {
   "display_name": "eods-f22",
   "language": "python",
   "name": "eods-f22"
  },
  "language_info": {
   "codemirror_mode": {
    "name": "ipython",
    "version": 3
   },
   "file_extension": ".py",
   "mimetype": "text/x-python",
   "name": "python",
   "nbconvert_exporter": "python",
   "pygments_lexer": "ipython3",
   "version": "3.10.6"
  }
 },
 "nbformat": 4,
 "nbformat_minor": 2
}
