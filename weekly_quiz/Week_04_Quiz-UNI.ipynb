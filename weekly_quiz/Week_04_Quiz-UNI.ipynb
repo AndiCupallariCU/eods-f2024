{
 "cells": [
  {
   "cell_type": "markdown",
   "metadata": {},
   "source": [
    "# Week 4 Quiz\n",
    "\n",
    "## Name - UNI\n",
    "\n",
    "### Due Monday Oct 7th 11:59pm ET\n",
    "\n",
    "### Instructions\n",
    "\n",
    "Replace the Name and UNI in cell above and the notebook filename\n",
    "\n",
    "Replace all '____' below using the instructions provided.\n",
    "\n",
    "When completed, \n",
    " 1. make sure you've replaced Name and UNI in the first cell and filename\n",
    " 2. Kernel -> Restart & Run All to run all cells in order \n",
    " 3. Print Preview -> Print (Landscape Layout) -> Save to pdf \n",
    " 4. post pdf to GradeScope"
   ]
  },
  {
   "cell_type": "code",
   "execution_count": null,
   "metadata": {},
   "outputs": [],
   "source": [
    "import pandas as pd\n",
    "import numpy as np\n",
    "import seaborn as sns\n",
    "\n",
    "sns.set_style('darkgrid')\n",
    "\n",
    "%matplotlib inline"
   ]
  },
  {
   "cell_type": "markdown",
   "metadata": {},
   "source": [
    "In this quiz we'll calculate a 95% confidence interval for the mean value of 'flavanoids' from the wine dataset."
   ]
  },
  {
   "cell_type": "code",
   "execution_count": null,
   "metadata": {},
   "outputs": [],
   "source": [
    "#1. Read in ../data/wine_dataset.csv as df\n",
    "df = ____\n",
    "\n",
    "# print .info() on df for a summary of the dataset\n",
    "____"
   ]
  },
  {
   "cell_type": "code",
   "execution_count": null,
   "metadata": {},
   "outputs": [],
   "source": [
    "#2. Generate a barplot of the 'flavenoids' column with 95% confidence intervals using sns.barplot()\n",
    "# These are the CI values we're going to calculate below.\n",
    "# Capture the axis of the plot in ax\n",
    "____"
   ]
  },
  {
   "cell_type": "code",
   "execution_count": null,
   "metadata": {},
   "outputs": [],
   "source": [
    "#3. Assign the mean value of flavanoids to variable observed_mean\n",
    "observed_mean = ____\n",
    "\n",
    "# Print the observed mean with a precision of 2\n",
    "observed_mean.round(2)"
   ]
  },
  {
   "cell_type": "code",
   "execution_count": null,
   "metadata": {},
   "outputs": [],
   "source": [
    "# generate a bootstrap sample of df.flavanoids (with the same number of values as the original dataset)\n",
    "#   using .sample() (with replacement) \n",
    "#   using random_state=0 so our answers will match\n",
    "#   assign the result to sample\n",
    "sample = ____\n",
    "\n",
    "# Print the mean of the sample with a precision of 2\n",
    "# Note: if the sample mean is the same as the observed mean, \n",
    "#       check: are you sampling with replacement?\n",
    "____"
   ]
  },
  {
   "cell_type": "code",
   "execution_count": null,
   "metadata": {},
   "outputs": [],
   "source": [
    "#4. Generate 1000 additional sample means using bootstrap sampling from the 'flavanoids' column\n",
    "#   each sample should have the same number of values as the original dataframe\n",
    "#   sample with replacement\n",
    "#   do not use random_state for this step (your results may differ from the course solution slightly)\n",
    "#   store in the list sample_means\n",
    "sample_means = []\n",
    "____\n",
    "\n",
    "# Print the first 5 values in sample_means\n",
    "sample_means[:5]"
   ]
  },
  {
   "cell_type": "code",
   "execution_count": null,
   "metadata": {},
   "outputs": [],
   "source": [
    "#5. Plot the distribution of sample means using sns.histplot()\n",
    "____"
   ]
  }
 ],
 "metadata": {
  "kernelspec": {
   "display_name": "eods-f22",
   "language": "python",
   "name": "eods-f22"
  },
  "language_info": {
   "codemirror_mode": {
    "name": "ipython",
    "version": 3
   },
   "file_extension": ".py",
   "mimetype": "text/x-python",
   "name": "python",
   "nbconvert_exporter": "python",
   "pygments_lexer": "ipython3",
   "version": "3.10.6"
  },
  "toc": {
   "base_numbering": 1,
   "nav_menu": {},
   "number_sections": false,
   "sideBar": true,
   "skip_h1_title": false,
   "title_cell": "Table of Contents",
   "title_sidebar": "Contents",
   "toc_cell": false,
   "toc_position": {},
   "toc_section_display": true,
   "toc_window_display": false
  }
 },
 "nbformat": 4,
 "nbformat_minor": 2
}
