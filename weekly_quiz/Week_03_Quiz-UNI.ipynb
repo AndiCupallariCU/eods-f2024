{
 "cells": [
  {
   "cell_type": "markdown",
   "metadata": {},
   "source": [
    "# Week 3 Quiz\n",
    "\n",
    "## Name - UNI\n",
    "\n",
    "### Instructions\n",
    "\n",
    "Replace the Name and UNI in cell above and the notebook filename\n",
    "\n",
    "Replace all '____' below using the instructions provided.\n",
    "\n",
    "When completed, \n",
    " 1. make sure you've replaced Name and UNI in the first cell and filename\n",
    " 2. Kernel -> Restart & Run All to run all cells in order \n",
    " 3. Print Preview -> Print (Landscape Layout) -> Save to pdf \n",
    " 4. post pdf to GradeScope"
   ]
  },
  {
   "cell_type": "code",
   "execution_count": null,
   "metadata": {},
   "outputs": [],
   "source": [
    "import pandas as pd\n",
    "import numpy as np\n",
    "import matplotlib.pyplot as plt\n",
    "import seaborn as sns\n",
    "\n",
    "sns.set_style('darkgrid')\n",
    "\n",
    "%matplotlib inline"
   ]
  },
  {
   "cell_type": "code",
   "execution_count": null,
   "metadata": {},
   "outputs": [],
   "source": [
    "# Use pandas to read in 'wine_dataset.csv'\n",
    "# This is a dataset of various wines with a target of categorical variable 'class'\n",
    "df = pd.read_csv('../data/wine_dataset.csv')"
   ]
  },
  {
   "cell_type": "code",
   "execution_count": null,
   "metadata": {},
   "outputs": [],
   "source": [
    "# 1. Print out the number of rows and columns in the dataset using .shape\n",
    "____"
   ]
  },
  {
   "cell_type": "code",
   "execution_count": null,
   "metadata": {},
   "outputs": [],
   "source": [
    "# 2. Display the first 3 rows of df using .head()\n",
    "____"
   ]
  },
  {
   "cell_type": "code",
   "execution_count": null,
   "metadata": {},
   "outputs": [],
   "source": [
    "# 3. Display the summary stats of numeric columns using .describe()\n",
    "____"
   ]
  },
  {
   "cell_type": "code",
   "execution_count": null,
   "metadata": {},
   "outputs": [],
   "source": [
    "# 4. Using .iloc[], display the first 3 rows, first 3 columns\n",
    "# You should see the columns ['alcohol','malic_acid','ash']\n",
    "____"
   ]
  },
  {
   "cell_type": "code",
   "execution_count": null,
   "metadata": {},
   "outputs": [],
   "source": [
    "# 5. Using .loc[], display rows with index label 4 to 6 inclusive and columns 'ash' and 'total_phenols'\n",
    "____"
   ]
  },
  {
   "cell_type": "code",
   "execution_count": null,
   "metadata": {},
   "outputs": [],
   "source": [
    "# 6. Return the 'ash' and 'hue' columns for all rows with 'hue' greater than the median value of hue\n",
    "# This should result in 89 rows x 2 columns\n",
    "# Note that pandas will only display a subset of the rows\n",
    "____"
   ]
  },
  {
   "cell_type": "code",
   "execution_count": null,
   "metadata": {},
   "outputs": [],
   "source": [
    "# 7.1. Create two axes using plt.subplots with 1 row , 2 columns, figsize=(10,4)\n",
    "____\n",
    "\n",
    "# 7.2 In the first axis (ax[0]), plot the distribution of df.alcohol using sns.histplot()\n",
    "____\n",
    "\n",
    "# 7.3 Add the title 'Wine Alcohol Content' to ax[0] using .set_title()\n",
    "____\n",
    "\n",
    "# 7.4 In the second axis, plot a boxplot of df.color_intensity using sns.boxplot()\n",
    "____\n",
    "\n",
    "# 7.5 Add the title 'Wine Color Intensity' to ax[1] using .set_title()\n",
    "____"
   ]
  }
 ],
 "metadata": {
  "kernelspec": {
   "display_name": "eods-f22",
   "language": "python",
   "name": "eods-f22"
  },
  "language_info": {
   "codemirror_mode": {
    "name": "ipython",
    "version": 3
   },
   "file_extension": ".py",
   "mimetype": "text/x-python",
   "name": "python",
   "nbconvert_exporter": "python",
   "pygments_lexer": "ipython3",
   "version": "3.10.6"
  }
 },
 "nbformat": 4,
 "nbformat_minor": 2
}
