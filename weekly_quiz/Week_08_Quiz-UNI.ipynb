{
 "cells": [
  {
   "cell_type": "markdown",
   "metadata": {
    "slideshow": {
     "slide_type": "slide"
    }
   },
   "source": [
    "# Week 8 Quiz\n",
    "\n",
    "## [Name] - [UNI]\n",
    "\n",
    "### Due Mon. Nov 20th, 11:59pm ET\n",
    "\n",
    "In this quiz we'll practice some data transformations.\n",
    "\n",
    "### Instructions\n",
    "\n",
    "Replace the Name and UNI in cell above and the notebook filename\n",
    "\n",
    "Replace all '____' below using the instructions provided.\n",
    "\n",
    "When completed, \n",
    " 1. make sure you've replaced Name and UNI in the first cell and filename\n",
    " 2. Kernel -> Restart & Run All to run all cells in order \n",
    " 3. Print Preview -> Print (Landscape Layout) -> Save to pdf \n",
    " 4. post pdf to GradeScope"
   ]
  },
  {
   "cell_type": "code",
   "execution_count": null,
   "metadata": {},
   "outputs": [],
   "source": [
    "# import numpy as np and pandas as pd\n",
    "import numpy as np\n",
    "import pandas as pd"
   ]
  },
  {
   "cell_type": "code",
   "execution_count": null,
   "metadata": {},
   "outputs": [],
   "source": [
    "# Read in data from data/week8_housing_data.csv and store as dataframe df.\n",
    "#   This data includes a datetime column DocumentDate. \n",
    "#   Use parse_dates to parse this column into datetimes\n",
    "#   Print df.info() to see the number of rows, column names, column datatypes and amount of missing data.\n",
    "df = pd.read_csv('../data/week8_housing_data.csv',parse_dates=['DocumentDate'])\n",
    "df.info()"
   ]
  },
  {
   "cell_type": "code",
   "execution_count": null,
   "metadata": {},
   "outputs": [],
   "source": [
    "# If we run df.duplicated() we get a vector of booleans that indicate duplicated rows.\n",
    "# Use df.duplicated() with default values and .sum() to assert that there are 3 duplicated rows\n",
    "assert ____ == 3"
   ]
  },
  {
   "cell_type": "code",
   "execution_count": null,
   "metadata": {},
   "outputs": [],
   "source": [
    "# Use drop_duplicates() to drop the duplicated rows.\n",
    "#   Compare the entire row (subset=None) and keep the first duplicate (keep='first') (the defaults)\n",
    "# Store back into df\n",
    "df = ____\n",
    "\n",
    "# Confirm that the correct number of rows have been dropped\n",
    "assert df.shape[0] == 497"
   ]
  },
  {
   "cell_type": "code",
   "execution_count": null,
   "metadata": {},
   "outputs": [],
   "source": [
    "# Before continuing, note the is a missing SqFtLot in the first row\n",
    "df.head(3)"
   ]
  },
  {
   "cell_type": "code",
   "execution_count": null,
   "metadata": {},
   "outputs": [],
   "source": [
    "# From the .info() above, we see there are missing values in SqFtLot.\n",
    "#   Before we fill this column, create a new dummy column 'SqFtLot_missing' in df.\n",
    "#   This column should contain integers, 1 for missing, 0 for not missing.\n",
    "# Use .isna() and .astype(int) to create the 'SqFtLot_missing' column.\n",
    "df['SqFtLot_missing'] = ____\n",
    "\n",
    "# Assert that the number of 1's in the SqFtLot_missing column equals the number of missing values in SqFtLot\n",
    "assert ____ == ____\n",
    "\n",
    "# Assert that the dtype of SqFtLot_missing is int\n",
    "assert df.SqFtLot_missing.dtype == int"
   ]
  },
  {
   "cell_type": "code",
   "execution_count": null,
   "metadata": {},
   "outputs": [],
   "source": [
    "# Now fill the missing values in df.SqFtLot with the mean of the SqFtLot column.\n",
    "#   Use .fillna() and .mean()\n",
    "# Store back into the existing SqFtLot column.\n",
    "df['SqFtLot'] = ____\n",
    "\n",
    "# Assert that the SqFtLot column no longer contains any missing values (number of missing values == 0)\n",
    "assert df.SqFtLot.isna().sum() == 0"
   ]
  },
  {
   "cell_type": "code",
   "execution_count": null,
   "metadata": {},
   "outputs": [],
   "source": [
    "# The missing SqFtLot should now be filled\n",
    "df.head(3)"
   ]
  },
  {
   "cell_type": "code",
   "execution_count": null,
   "metadata": {},
   "outputs": [],
   "source": [
    "# There are also missing values in PropertyType.\n",
    "#   Since 'PropertyType' is categorical, let's treat MISSING as another category.\n",
    "#   Fill the empty values in PropertyType with the string 'MISSING'.\n",
    "# Store back into the existing PropertyType column.\n",
    "df['PropertyType'] = ____\n",
    "\n",
    "# Call .value_counts() on the PropertyType column \n",
    "#   to see how many of each category exist in the dataframe.\n",
    "# We should see 22 MISSING values\n",
    "df.PropertyType.value_counts()"
   ]
  },
  {
   "cell_type": "code",
   "execution_count": null,
   "metadata": {},
   "outputs": [],
   "source": [
    "# Confirm we have no missing data by asserting that the sum of df.isna() over rows and columns is equal to 0.\n",
    "assert ____ == 0\n",
    "\n",
    "# Print df.info() to visualy confirm there are no missing values as well\n",
    "df.info()"
   ]
  },
  {
   "cell_type": "code",
   "execution_count": null,
   "metadata": {},
   "outputs": [],
   "source": [
    "# Before we one hot enocode PropertyType, print the first 3 rows of df and note their PropertyType values\n",
    "df.head(3)"
   ]
  },
  {
   "cell_type": "code",
   "execution_count": null,
   "metadata": {},
   "outputs": [],
   "source": [
    "# Transform the categorical feature PropertyType using pd.get_dummies().\n",
    "#   Note that we can call get_dummies on the entire dataframe and only categorical features will be transformed.\n",
    "# Store the result of get_dummies into df_new\n",
    "df_new = ____\n",
    "\n",
    "# Print out the first 3 rows of df_new to see the result.\n",
    "df_new.head(3)"
   ]
  }
 ],
 "metadata": {
  "kernelspec": {
   "display_name": "eods-f22",
   "language": "python",
   "name": "eods-f22"
  },
  "language_info": {
   "codemirror_mode": {
    "name": "ipython",
    "version": 3
   },
   "file_extension": ".py",
   "mimetype": "text/x-python",
   "name": "python",
   "nbconvert_exporter": "python",
   "pygments_lexer": "ipython3",
   "version": "3.10.6"
  },
  "toc": {
   "base_numbering": 1,
   "nav_menu": {},
   "number_sections": false,
   "sideBar": true,
   "skip_h1_title": false,
   "title_cell": "Table of Contents",
   "title_sidebar": "Contents",
   "toc_cell": false,
   "toc_position": {},
   "toc_section_display": true,
   "toc_window_display": false
  }
 },
 "nbformat": 4,
 "nbformat_minor": 2
}
