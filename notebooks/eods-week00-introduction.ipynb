{
 "cells": [
  {
   "cell_type": "markdown",
   "metadata": {
    "slideshow": {
     "slide_type": "slide"
    }
   },
   "source": [
    "\n",
    "\n",
    "## <center>Elements Of Data Science - F2024</center>\n",
    "# <center>Introduction</center>\n",
    "### <center>9/9/2024</center>"
   ]
  },
  {
   "cell_type": "markdown",
   "metadata": {
    "slideshow": {
     "slide_type": "slide"
    }
   },
   "source": [
    "# Who am I?\n",
    "Andi Cupallari\n",
    "   - PhD in Economics with a focus on AI and Deep Learning. Research Interests: AI, NLP (LLMs), causal inference, forecasting, advanced analytics"
   ]
  },
  {
   "cell_type": "markdown",
   "metadata": {
    "slideshow": {
     "slide_type": "slide"
    }
   },
   "source": [
    "<i>Director, Forecasting Capabilities @ Merck\n",
    "<div align='center'><img src='https://upload.wikimedia.org/wikipedia/commons/thumb/9/94/Merck_Logo.svg/1600px-Merck_Logo.svg.png' width='300px' alt='Merck'></div>\n",
    "\n",
    "\n",
    "<b>Past Experiences\n",
    "    \n",
    "<i>Associate Director, Advanced Analytics @ Kite Pharmaceuticals\n",
    "<div align='center'><img src='https://upload.wikimedia.org/wikipedia/commons/c/c2/NEW_KITE_COLOR_LOGO.jpg' width='300px' alt='Kite Pharmaceuticals'></div>\n",
    "\n",
    "<i>Data Scientist, AI and NLP Expert\n",
    "<div align='center'><img src='https://upload.wikimedia.org/wikipedia/commons/6/68/Novartis-Logo.svg' width='300px' alt='Novartis'></div>"
   ]
  },
  {
   "cell_type": "markdown",
   "metadata": {
    "slideshow": {
     "slide_type": "slide"
    }
   },
   "source": [
    "# Who is this course for?"
   ]
  },
  {
   "cell_type": "markdown",
   "metadata": {
    "slideshow": {
     "slide_type": "fragment"
    }
   },
   "source": [
    "## People new to (at least) one of:"
   ]
  },
  {
   "cell_type": "markdown",
   "metadata": {
    "slideshow": {
     "slide_type": "fragment"
    }
   },
   "source": [
    "- Python"
   ]
  },
  {
   "cell_type": "markdown",
   "metadata": {
    "slideshow": {
     "slide_type": "fragment"
    }
   },
   "source": [
    "- Data Science Python libraries"
   ]
  },
  {
   "cell_type": "markdown",
   "metadata": {
    "slideshow": {
     "slide_type": "fragment"
    }
   },
   "source": [
    "- Visualization"
   ]
  },
  {
   "cell_type": "markdown",
   "metadata": {
    "slideshow": {
     "slide_type": "fragment"
    }
   },
   "source": [
    "- Hypothesis Testing"
   ]
  },
  {
   "cell_type": "markdown",
   "metadata": {
    "slideshow": {
     "slide_type": "fragment"
    }
   },
   "source": [
    "- Machine Learning"
   ]
  },
  {
   "cell_type": "markdown",
   "metadata": {
    "slideshow": {
     "slide_type": "slide"
    }
   },
   "source": [
    "# What will we be covering?\n",
    "<br>"
   ]
  },
  {
   "cell_type": "markdown",
   "metadata": {
    "cell_style": "center",
    "slideshow": {
     "slide_type": "fragment"
    }
   },
   "source": [
    "- Python DS tools\n",
    "\n",
    "- Exploratory Data Analysis and Visualization\n",
    "\n",
    "- Data Manipulation including cleaning and transformation\n",
    "\n",
    "- Hypothesis Testing\n",
    "\n",
    "- Predictive modeling using ML"
   ]
  },
  {
   "cell_type": "markdown",
   "metadata": {
    "slideshow": {
     "slide_type": "slide"
    }
   },
   "source": [
    "# What will we be covering? (cont)\n",
    "<br>"
   ]
  },
  {
   "cell_type": "markdown",
   "metadata": {
    "cell_style": "center",
    "slideshow": {
     "slide_type": "fragment"
    }
   },
   "source": [
    "- Clustering \n",
    "\n",
    "- Dimensionality Reduction\n",
    "\n",
    "- Natural Language Processing and Topic Modeling\n",
    "\n",
    "- Dealing with Time Series data\n",
    "\n",
    "- Recommendation Engines\n",
    "\n",
    "- Interacting with Databases"
   ]
  },
  {
   "cell_type": "markdown",
   "metadata": {
    "cell_style": "center",
    "slideshow": {
     "slide_type": "slide"
    }
   },
   "source": [
    "# Logistics\n",
    "\n",
    "<br/>\n",
    "<br/>\n",
    "\n",
    "**Columbia University email**: ac5562@columbia.edu\n",
    "\n",
    "**Personal email**: acupallari@gmail.com\n",
    "\n",
    "**TAs**: See the course website\n",
    "\n",
    "**Office Hours**: \n",
    "- Andi: Mondays, 6pm, location TBA\n",
    "- TAs: TBA, location TBA"
   ]
  },
  {
   "cell_type": "markdown",
   "metadata": {
    "cell_style": "center",
    "slideshow": {
     "slide_type": "slide"
    }
   },
   "source": [
    "# Course Materials"
   ]
  },
  {
   "cell_type": "markdown",
   "metadata": {
    "cell_style": "center",
    "slideshow": {
     "slide_type": "fragment"
    }
   },
   "source": [
    "\n",
    "- Course Website via Courseworks:<br/>\n",
    "https://courseworks2.columbia.edu/courses/185631"
   ]
  },
  {
   "cell_type": "markdown",
   "metadata": {
    "cell_style": "center",
    "slideshow": {
     "slide_type": "fragment"
    }
   },
   "source": [
    "- Slides and weekly quizzes:<br/>\n",
    "More instructions to come"
   ]
  },
  {
   "cell_type": "markdown",
   "metadata": {
    "cell_style": "center",
    "slideshow": {
     "slide_type": "fragment"
    }
   },
   "source": [
    "- Homeworks:<br/>\n",
    "More instructions to come"
   ]
  },
  {
   "cell_type": "markdown",
   "metadata": {
    "slideshow": {
     "slide_type": "slide"
    }
   },
   "source": [
    "# Slides"
   ]
  },
  {
   "cell_type": "markdown",
   "metadata": {
    "slideshow": {
     "slide_type": "fragment"
    }
   },
   "source": [
    "- written using Jupyter Notebook\n",
    "    - in `notebooks` folder\n",
    "    - open .ipynb files in jupyter"
   ]
  },
  {
   "cell_type": "markdown",
   "metadata": {
    "slideshow": {
     "slide_type": "fragment"
    }
   },
   "source": [
    "- also saved as pdf \n",
    "  - in `slides_pdf` folder\n",
    "  - open .pdf in a pdf viewer (chrome, acrobat, evince, etc.)"
   ]
  },
  {
   "cell_type": "markdown",
   "metadata": {
    "slideshow": {
     "slide_type": "slide"
    }
   },
   "source": [
    "# Textbooks\n",
    "\n",
    "\n",
    "- (PDSH) **Python Data Science Handbook** by Jake VanderPlas\n",
    " - <a href=\"https://jakevdp.github.io/PythonDataScienceHandbook/\">Free online</a>\n",
    " - <a href=\"http://www.columbia.edu/cgi-bin/cul/resolve?clio13668434\">Columbia Library</a>\n",
    " - 2nd Edition coming soon\n",
    "\n",
    "\n",
    "- (PML) **Python Machine Learning (3rd Edition)** by Raschka and Mirjalili\n",
    " - <a href=\"http://www.columbia.edu/cgi-bin/cul/resolve?clio16066598\">Columbia Library</a>\n",
    " - <a href=\"https://github.com/rasbt/python-machine-learning-book-3rd-edition\">Associated Github repo</a>\n",
    " - New Edition: Machine Learning with PyTorch and Scikit-Learn\n",
    "\n",
    " \n",
    "\n",
    "<br/>\n",
    "<br/>\n",
    "\n",
    "<center><img src=\"images/book_covers.png\" width=\"200\" align=\"center\"/></center>"
   ]
  },
  {
   "cell_type": "markdown",
   "metadata": {
    "slideshow": {
     "slide_type": "slide"
    }
   },
   "source": [
    "# Other Useful Texts\n",
    "\n",
    "\n",
    "- **Data Science from Scratch, 2nd Ed.** by Joel Grus\n",
    "- **Python for Data Analytics** by Wes McKinney (2nd Edition coming soon)\n",
    "- **Practical Statistics for Data Scientists: 50+ Essential Concepts Using R and Python** by Bruce, et al.\n",
    "- **Effective Pandas** by Matt Harrison\n",
    "- **SQL for Data Scientists** by Renée M. P. Teate"
   ]
  },
  {
   "cell_type": "markdown",
   "metadata": {
    "slideshow": {
     "slide_type": "slide"
    }
   },
   "source": [
    "# Quizzes, Homeworks and Exams"
   ]
  },
  {
   "cell_type": "markdown",
   "metadata": {
    "slideshow": {
     "slide_type": "fragment"
    }
   },
   "source": [
    "- **Weekly Quiz**, submit online (TBA)\n",
    " - 10% of grade, equally weighted\n",
    " - **no late submissions accepted**\n",
    " - **if you know there will be an issue, let me know in advance**"
   ]
  },
  {
   "cell_type": "markdown",
   "metadata": {
    "slideshow": {
     "slide_type": "fragment"
    }
   },
   "source": [
    "- **4 Homework Assignments**, submit online\n",
    " - 40% of grade, equally weighted\n",
    " - 2 free late days total over the semester to be used when you choose\n",
    " - 25% off for each late day"
   ]
  },
  {
   "cell_type": "markdown",
   "metadata": {
    "slideshow": {
     "slide_type": "fragment"
    }
   },
   "source": [
    "\n",
    "- **Midterm exam** 25% of grade"
   ]
  },
  {
   "cell_type": "markdown",
   "metadata": {
    "slideshow": {
     "slide_type": "fragment"
    }
   },
   "source": [
    "- **Final Exam** 25% of grade"
   ]
  },
  {
   "cell_type": "markdown",
   "metadata": {
    "slideshow": {
     "slide_type": "slide"
    }
   },
   "source": [
    "#  In person Course\n",
    "\n",
    "- In-class\n",
    "- Use Ed Discussion for questions\n",
    "- Zoom office hours (TBD)"
   ]
  },
  {
   "cell_type": "markdown",
   "metadata": {
    "slideshow": {
     "slide_type": "slide"
    }
   },
   "source": [
    "\n",
    "# Expectations\n",
    "\n",
    "- Attend/view the weekly lecture\n",
    "- Ask/answer questions via Ed\n",
    "- Attend Office Hours for additional help\n",
    "- Complete all quizzes and homeworks on time\n",
    "- Hopefully learn enough to get through a junior DS job interview\n"
   ]
  },
  {
   "cell_type": "markdown",
   "metadata": {
    "slideshow": {
     "slide_type": "slide"
    }
   },
   "source": [
    "# Plagarism and Code copying"
   ]
  },
  {
   "cell_type": "markdown",
   "metadata": {
    "slideshow": {
     "slide_type": "fragment"
    }
   },
   "source": [
    "- Homeworks may be checked for plagiarism\n",
    "\n",
    "- Copied code will result in 0 points for all involved\n",
    "\n",
    "- Copying from my slides or online sources: not recommended"
   ]
  },
  {
   "cell_type": "markdown",
   "metadata": {
    "slideshow": {
     "slide_type": "slide"
    }
   },
   "source": [
    "# <center>Questions re Logistics?</center>"
   ]
  },
  {
   "cell_type": "markdown",
   "metadata": {
    "slideshow": {
     "slide_type": "slide"
    }
   },
   "source": [
    "# What is Data Science?"
   ]
  },
  {
   "cell_type": "markdown",
   "metadata": {
    "slideshow": {
     "slide_type": "fragment"
    }
   },
   "source": [
    "<br>\n",
    "<center><img src=\"attachment:image.png\" width=300></center>\n",
    "\n",
    "\n",
    "\n"
   ]
  },
  {
   "cell_type": "markdown",
   "metadata": {
    "slideshow": {
     "slide_type": "fragment"
    }
   },
   "source": [
    "Data science, also known as data-driven science, is **an interdisciplinary field** about scientific methods, processes, and systems **to extract knowledge or insights from data \n",
    "in various forms**, either structured or unstructured, similar to data mining.\n",
    "<br>\n",
    "[https://en.wikipedia.org/wiki/Data_science](https://en.wikipedia.org/wiki/Data_science)\n"
   ]
  },
  {
   "cell_type": "markdown",
   "metadata": {
    "slideshow": {
     "slide_type": "slide"
    }
   },
   "source": [
    "# What is Data Science?\n",
    "<br>\n",
    "<center><img src=\"images/Data_Science_VD.png\" width=600></center>\n",
    "<br>\n",
    "http://drewconway.com/zia/2013/3/26/the-data-science-venn-diagram"
   ]
  },
  {
   "cell_type": "markdown",
   "metadata": {
    "slideshow": {
     "slide_type": "slide"
    }
   },
   "source": [
    "# Data Science $\\neq$ Magic"
   ]
  },
  {
   "cell_type": "markdown",
   "metadata": {
    "slideshow": {
     "slide_type": "fragment"
    }
   },
   "source": [
    "- \"Can we find something in this data?\" **Yes**"
   ]
  },
  {
   "cell_type": "markdown",
   "metadata": {
    "slideshow": {
     "slide_type": "fragment"
    }
   },
   "source": [
    "- \"Will it solve our business problem?\" **Maybe**"
   ]
  },
  {
   "cell_type": "markdown",
   "metadata": {
    "slideshow": {
     "slide_type": "fragment"
    }
   },
   "source": [
    "- \"Will it be easy?\" **Probably not**"
   ]
  },
  {
   "cell_type": "markdown",
   "metadata": {
    "slideshow": {
     "slide_type": "slide"
    }
   },
   "source": [
    "# Data Science Workflow"
   ]
  },
  {
   "cell_type": "markdown",
   "metadata": {
    "slideshow": {
     "slide_type": "fragment"
    }
   },
   "source": [
    "- Business Need $\\rightarrow$"
   ]
  },
  {
   "cell_type": "markdown",
   "metadata": {
    "slideshow": {
     "slide_type": "fragment"
    }
   },
   "source": [
    "- DS Question $\\rightarrow$"
   ]
  },
  {
   "cell_type": "markdown",
   "metadata": {
    "slideshow": {
     "slide_type": "fragment"
    }
   },
   "source": [
    "- **E**xtract-**T**ransform-**L**oad (ETL)$\\rightarrow$"
   ]
  },
  {
   "cell_type": "markdown",
   "metadata": {
    "slideshow": {
     "slide_type": "fragment"
    }
   },
   "source": [
    "- Experimentation $\\rightarrow$"
   ]
  },
  {
   "cell_type": "markdown",
   "metadata": {
    "slideshow": {
     "slide_type": "fragment"
    }
   },
   "source": [
    "- API/Tool Creation $\\rightarrow$"
   ]
  },
  {
   "cell_type": "markdown",
   "metadata": {
    "slideshow": {
     "slide_type": "fragment"
    }
   },
   "source": [
    "- Reporting"
   ]
  },
  {
   "cell_type": "markdown",
   "metadata": {
    "slideshow": {
     "slide_type": "slide"
    }
   },
   "source": [
    "# Important Before You Start!\n",
    "<br>\n",
    "<br>"
   ]
  },
  {
   "cell_type": "markdown",
   "metadata": {
    "slideshow": {
     "slide_type": "fragment"
    }
   },
   "source": [
    "1. What's the question?"
   ]
  },
  {
   "cell_type": "markdown",
   "metadata": {
    "slideshow": {
     "slide_type": "fragment"
    }
   },
   "source": [
    "2. What does success look like?"
   ]
  },
  {
   "cell_type": "markdown",
   "metadata": {
    "slideshow": {
     "slide_type": "fragment"
    }
   },
   "source": [
    "3. How are we going to measure it?\n",
    "<br>\n",
    "<br>"
   ]
  },
  {
   "cell_type": "markdown",
   "metadata": {
    "slideshow": {
     "slide_type": "fragment"
    }
   },
   "source": [
    "**Can't always get answers to these, but good to ask.**"
   ]
  },
  {
   "cell_type": "markdown",
   "metadata": {
    "slideshow": {
     "slide_type": "slide"
    }
   },
   "source": [
    "# Example DS Projects\n",
    "\n",
    "- [Machine Bias in Criminal Sentencing, Propublica](https://github.com/propublica/compas-analysis)\n",
    "\n",
    "- [Analysis of OkCupid Data](https://nbviewer.jupyter.org/github/lalelale/profiles_analysis/blob/master/profiles.ipynb)\n",
    "\n",
    "- [David Bowie Job Mentions](https://twitter.com/AndyRileyish/status/1170765576878329857?s=20)\n",
    "\n",
    "- [NYC Crash Mapper](http://crashmapper.org/#/?cfat=true&cinj=true&endDate=2019-07&geo=citywide&identifier=&lat=40.763121171621314&lng=-73.94588470458984&lngLats=%255B%255D&mfat=true&minj=true&noInjFat=false&pfat=true&pinj=true&startDate=2019-07&zoom=12)\n",
    "\n",
    "- [NeurIPS 2019 Acceptance Stats](https://medium.com/@dcharrezt/neurips-2019-stats-c91346d31c8f)\n",
    "\n",
    "- [NeurIPS 2021 Stats](https://guoqiangwei.xyz/neurips2021_stats/neurips2021_statistics.html)\n",
    "\n",
    "- Demo: Example Flowershop"
   ]
  },
  {
   "cell_type": "markdown",
   "metadata": {
    "slideshow": {
     "slide_type": "slide"
    }
   },
   "source": [
    "<br>\n",
    "<br>\n",
    "\n",
    "# <center>Questions?<center>\n",
    "<br>"
   ]
  }
 ],
 "metadata": {
  "celltoolbar": "Slideshow",
  "kernelspec": {
   "display_name": "sigma2",
   "language": "python",
   "name": "sigma2"
  },
  "language_info": {
   "codemirror_mode": {
    "name": "ipython",
    "version": 3
   },
   "file_extension": ".py",
   "mimetype": "text/x-python",
   "name": "python",
   "nbconvert_exporter": "python",
   "pygments_lexer": "ipython3",
   "version": "3.8.15"
  },
  "toc": {
   "base_numbering": 1,
   "nav_menu": {},
   "number_sections": false,
   "sideBar": true,
   "skip_h1_title": false,
   "title_cell": "Table of Contents",
   "title_sidebar": "Contents",
   "toc_cell": false,
   "toc_position": {},
   "toc_section_display": true,
   "toc_window_display": false
  }
 },
 "nbformat": 4,
 "nbformat_minor": 4
}
