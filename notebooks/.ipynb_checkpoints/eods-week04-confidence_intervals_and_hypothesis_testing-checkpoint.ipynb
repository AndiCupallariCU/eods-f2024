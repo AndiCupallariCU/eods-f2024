{
 "cells": [
  {
   "cell_type": "markdown",
   "metadata": {
    "slideshow": {
     "slide_type": "slide"
    }
   },
   "source": [
    "## <center>Elements Of Data Science - F2024</center>\n",
    "# <center>Week 4: Hypothesis Testing<center>\n",
    "### <center>9/30/2024</center>"
   ]
  },
  {
   "cell_type": "markdown",
   "metadata": {
    "slideshow": {
     "slide_type": "slide"
    }
   },
   "source": [
    "# TODOs\n",
    "\n",
    "- Readings\n",
    " - [PDSH Chap 5](https://ezproxy.cul.columbia.edu/login?qurl=https%3a%2f%2fsearch.ebscohost.com%2flogin.aspx%3fdirect%3dtrue%26AuthType%3dip%26db%3dnlebk%26AN%3d1425081%26site%3dehost-live%26scope%3dsite%26ebv%3DEB%26ppid%3Dpp_331): What is Machine Learning and Introduction to Scikit-Learn\n",
    "   - PDSH Chap 5 In Depth: Linear Regression\n",
    "   - PDSH Chap 5 In Depth: Decision Trees and Random Forests\n",
    " - Recommended PML Chap 3\n",
    " - Optional PML Chap 2\n",
    " - Optional PDSH Chap 5 In Depth: Support Vector Machines\n",
    "\n",
    "<br>\n",
    "<br>\n",
    "\n",
    "- **Quiz 3**: due today, Sep 30nd, 11:59pm ET via Gradescope\n",
    "- **Quiz 4**: due Monday Oct 7th, 11:59pm ET via Gradescope\n",
    "\n",
    "- **HW1**: due Monday, October 14th at 11:59 pm EST via Gradescope\n"
   ]
  },
  {
   "cell_type": "markdown",
   "metadata": {
    "slideshow": {
     "slide_type": "slide"
    }
   },
   "source": [
    "# Additional Resources\n",
    "\n",
    "\n",
    "- Statistical Rules of Thumb, Gerald van Belle [Chapter 2 online](http://www.vanbelle.org/chapters/webchapter2.pdf)\n",
    "\n",
    "- On the use of p-values\n",
    " - [The ASA's Statement on p-Values: Context, Process, and Purpose](https://www.tandfonline.com/doi/full/10.1080/00031305.2016.1154108)\n",
    " - [Moving to a World Beyond “p < 0.05”](https://www.tandfonline.com/doi/full/10.1080/00031305.2019.1583913)\n",
    " - [“The 2019 ASA Guide to P-values and Statistical Significance: Don’t Say What You Don’t Mean” (Some Recommendations)(ii)](https://errorstatistics.com/2019/06/17/the-2019-asa-guide-to-p-values-and-statistical-significance-dont-say-what-you-dont-mean-some-recommendations/)\n"
   ]
  },
  {
   "cell_type": "markdown",
   "metadata": {
    "slideshow": {
     "slide_type": "slide"
    }
   },
   "source": [
    "# Today\n",
    "\n",
    "- Confidence Intervals\n",
    "- Hypothesis Testing\n",
    "- Multi-Armed Bandit (MAB)\n",
    "\n",
    "<br/>\n",
    "<br/>\n",
    "<br/>\n",
    "\n",
    "# <center>Questions?</center>\n",
    "<br>\n",
    "<br>"
   ]
  },
  {
   "cell_type": "markdown",
   "metadata": {
    "slideshow": {
     "slide_type": "slide"
    }
   },
   "source": [
    "# Environment Setup"
   ]
  },
  {
   "cell_type": "code",
   "execution_count": 1,
   "metadata": {
    "slideshow": {
     "slide_type": "fragment"
    }
   },
   "outputs": [],
   "source": [
    "import numpy as np\n",
    "import pandas as pd\n",
    "import matplotlib.pyplot as plt\n",
    "import seaborn as sns\n",
    "\n",
    "sns.set_style('darkgrid')\n",
    "\n",
    "%matplotlib inline"
   ]
  },
  {
   "cell_type": "markdown",
   "metadata": {
    "slideshow": {
     "slide_type": "slide"
    }
   },
   "source": [
    "# Confidence Intervals and Hypothesis Testing\n",
    "\n",
    "- Random Sampling\n",
    "- Confidence Intervals\n",
    "- Hypothesis Testing\n",
    "- Permutation Tests\n",
    "- A/B Tests\n",
    "- p-values\n",
    "- Multi-Armed Bandit"
   ]
  },
  {
   "cell_type": "markdown",
   "metadata": {
    "slideshow": {
     "slide_type": "slide"
    }
   },
   "source": [
    "# Questions and More Questions\n",
    "<br>\n",
    "\n",
    "- Have web conversions gone up?\n",
    "\n",
    "- Which ad generates more sales?\n",
    "\n",
    "- Which headline generates more clicks?\n",
    "\n",
    "- Did the number of \"likes\" change?\n",
    "\n",
    "<div>\n",
    "    <center>\n",
    "    <img src=\"attachment:image.png\" width=700/>\n",
    "    </center>\n",
    "</div>"
   ]
  },
  {
   "cell_type": "markdown",
   "metadata": {
    "slideshow": {
     "slide_type": "slide"
    }
   },
   "source": [
    "# Example: What can we say about the trip distance of an average taxi trip in Jan 2017?"
   ]
  },
  {
   "cell_type": "code",
   "execution_count": 2,
   "metadata": {
    "slideshow": {
     "slide_type": "fragment"
    }
   },
   "outputs": [
    {
     "name": "stdout",
     "output_type": "stream",
     "text": [
      "(1000, 3)\n"
     ]
    },
    {
     "data": {
      "text/html": [
       "<div>\n",
       "<style scoped>\n",
       "    .dataframe tbody tr th:only-of-type {\n",
       "        vertical-align: middle;\n",
       "    }\n",
       "\n",
       "    .dataframe tbody tr th {\n",
       "        vertical-align: top;\n",
       "    }\n",
       "\n",
       "    .dataframe thead th {\n",
       "        text-align: right;\n",
       "    }\n",
       "</style>\n",
       "<table border=\"1\" class=\"dataframe\">\n",
       "  <thead>\n",
       "    <tr style=\"text-align: right;\">\n",
       "      <th></th>\n",
       "      <th>trip_distance</th>\n",
       "      <th>is_weekend</th>\n",
       "      <th>weekpart</th>\n",
       "    </tr>\n",
       "  </thead>\n",
       "  <tbody>\n",
       "    <tr>\n",
       "      <th>0</th>\n",
       "      <td>0.89</td>\n",
       "      <td>False</td>\n",
       "      <td>Weekday</td>\n",
       "    </tr>\n",
       "    <tr>\n",
       "      <th>1</th>\n",
       "      <td>2.70</td>\n",
       "      <td>True</td>\n",
       "      <td>Weekend</td>\n",
       "    </tr>\n",
       "    <tr>\n",
       "      <th>2</th>\n",
       "      <td>1.41</td>\n",
       "      <td>True</td>\n",
       "      <td>Weekend</td>\n",
       "    </tr>\n",
       "    <tr>\n",
       "      <th>3</th>\n",
       "      <td>0.40</td>\n",
       "      <td>False</td>\n",
       "      <td>Weekday</td>\n",
       "    </tr>\n",
       "    <tr>\n",
       "      <th>4</th>\n",
       "      <td>2.30</td>\n",
       "      <td>False</td>\n",
       "      <td>Weekday</td>\n",
       "    </tr>\n",
       "  </tbody>\n",
       "</table>\n",
       "</div>"
      ],
      "text/plain": [
       "   trip_distance  is_weekend weekpart\n",
       "0           0.89       False  Weekday\n",
       "1           2.70        True  Weekend\n",
       "2           1.41        True  Weekend\n",
       "3           0.40       False  Weekday\n",
       "4           2.30       False  Weekday"
      ]
     },
     "metadata": {},
     "output_type": "display_data"
    }
   ],
   "source": [
    "df_taxi = (\n",
    "    pd.read_csv('../data/yellowcab_demo_withdaycategories.csv',\n",
    "                header=1,\n",
    "                parse_dates=['pickup_datetime','dropoff_datetime'])\n",
    "    .assign(\n",
    "        weekpart = lambda df_: df_.is_weekend.apply(lambda x: 'Weekend' if x else 'Weekday'),\n",
    "    )\n",
    "    .loc[:,['trip_distance','is_weekend','weekpart']]\n",
    "    .dropna()\n",
    ")\n",
    "print(df_taxi.shape)\n",
    "display(df_taxi.head(5))"
   ]
  },
  {
   "cell_type": "markdown",
   "metadata": {
    "slideshow": {
     "slide_type": "slide"
    }
   },
   "source": [
    "# Mini Probability Review\n",
    "\n",
    "- **Random Variable** \n",
    " - takes values from an associated probability distribution\n",
    " - Ex: trip_distance\n",
    "\n",
    "- **Distribution** \n",
    " - describes probability of values of a Random Variable\n",
    "\n",
    "- **$P(x)$: Probability** \n",
    " - probability of seeing $x$, takes value in [0,1]\n",
    " - Ex: P(trip_distance > 1)\n",
    "\n",
    "- **$P(x\\mid y)$: Conditional Probability**\n",
    " - probability of seeing $x$, given some $y$\n",
    " - Ex: P(trip_distance > 1 | is_weekend == True)\n",
    " "
   ]
  },
  {
   "cell_type": "markdown",
   "metadata": {
    "slideshow": {
     "slide_type": "skip"
    }
   },
   "source": [
    "so much more! [See Data Science From Scratch Ch 7](https://ezproxy.cul.columbia.edu/login?qurl=https%3a%2f%2fsearch.ebscohost.com%2flogin.aspx%3fdirect%3dtrue%26db%3dnlebk%26AN%3d979529%26site%3dehost-live%26scope%3dsite%26ebv%3DEB%26ppid%3Dpp_81)"
   ]
  },
  {
   "cell_type": "markdown",
   "metadata": {
    "slideshow": {
     "slide_type": "slide"
    }
   },
   "source": [
    "# Population Distributions and Sampling\n",
    "<br>\n",
    "\n",
    "- **\"The World\" or \"Ground Truth\"**\n",
    " - Ex: The length of taxi rides\n",
    "\n",
    "- **\"A Sample\" or \"Our Data\"**\n",
    " - Ex: The length of taxi rides we saw in Jan 2017"
   ]
  },
  {
   "cell_type": "markdown",
   "metadata": {
    "slideshow": {
     "slide_type": "slide"
    }
   },
   "source": [
    "# Population Distributions and Sampling\n",
    "<br>\n",
    "\n",
    "- **Population Distribution:** The actual distribution out in the world\n",
    " - Ex: Actual distribution of taxi trip lengths\n",
    "\n",
    "\n",
    "- **Random Sample:** Our observations of the true population distrution\n",
    " - We hope this does not differ systematically from the true distribution\n",
    " - Ex: The taxi trip lengths recorded in Jan 2017\n",
    "\n",
    "\n",
    "- **Sample Size (n):** The number of observations, the larger the better\n",
    " - Ex: We saw 1,000 trips"
   ]
  },
  {
   "cell_type": "markdown",
   "metadata": {
    "slideshow": {
     "slide_type": "slide"
    }
   },
   "source": [
    "# Population Dists and Sampling\n",
    "<br>\n",
    "\n",
    "\n",
    "- **Population Mean vs. Sample Mean:**\n",
    " - Ex: The true mean trip length ($\\mu$) vs the one we observed ($\\bar{x}$)\n",
    "\n",
    "\n",
    "- **Population Std. Dev. vs Sample Std. Dev.:**\n",
    " - Ex: The true spread of trip length ($\\sigma$) vs the one we observed ($s$)\n",
    " \n",
    " \n",
    "- **Sample Statistic:** \n",
    " - eg. mean, median, standard deviation\n",
    " - Ex: We're interested in mean trip length\n",
    "\n",
    "\n",
    "- **Sampling Distribution:** \n",
    " - Distribution of the sample statistic\n",
    " - Ex: How is mean trip length distributed if we were to repeat our experiment many times? "
   ]
  },
  {
   "cell_type": "markdown",
   "metadata": {
    "slideshow": {
     "slide_type": "slide"
    }
   },
   "source": [
    "# Things To Know First\n",
    "<br>\n",
    "\n",
    "\n",
    "- sample size\n",
    "<br>\n",
    "\n",
    "- shape (skewed?, multimodal?)\n",
    "<br>\n",
    "\n",
    "- location (central tendencies)\n",
    "<br>\n",
    "\n",
    "- spread (variance, standard deviation, IQR)\n",
    "<br>"
   ]
  },
  {
   "cell_type": "markdown",
   "metadata": {
    "slideshow": {
     "slide_type": "slide"
    }
   },
   "source": [
    "# Sampling From the Population"
   ]
  },
  {
   "cell_type": "code",
   "execution_count": 3,
   "metadata": {
    "slideshow": {
     "slide_type": "fragment"
    }
   },
   "outputs": [
    {
     "name": "stdout",
     "output_type": "stream",
     "text": [
      "count    50.00\n",
      "mean      2.14\n",
      "std       2.56\n",
      "min       0.30\n",
      "25%       0.91\n",
      "50%       1.60\n",
      "75%       2.19\n",
      "max      17.30\n",
      "Name: trip_distance, dtype: float64\n",
      "\n",
      "sample skew = 4.55\n"
     ]
    }
   ],
   "source": [
    "trip_distance_sample = df_taxi.trip_distance.sample(\n",
    "    n=50,             # our sample size\n",
    "    random_state=123, # needed for reproducability\n",
    "    replace=False     # sample without replacement    \n",
    ")\n",
    "\n",
    "print(trip_distance_sample.describe().round(2))\n",
    "print()\n",
    "print(f\"sample skew = {trip_distance_sample.skew().round(2)}\")"
   ]
  },
  {
   "cell_type": "markdown",
   "metadata": {
    "slideshow": {
     "slide_type": "slide"
    }
   },
   "source": [
    "# Plot the distribution of our Sample"
   ]
  },
  {
   "cell_type": "code",
   "execution_count": 4,
   "metadata": {
    "slideshow": {
     "slide_type": "fragment"
    }
   },
   "outputs": [
    {
     "data": {
      "image/png": "[encoded data removed]",
      "text/plain": [
       "<Figure size 1200x800 with 2 Axes>"
      ]
     },
     "metadata": {},
     "output_type": "display_data"
    }
   ],
   "source": [
    "fig,ax = plt.subplots(2,1,figsize=(12,8),sharex=True)\n",
    "sns.histplot(x=trip_distance_sample, ax=ax[0]);\n",
    "sns.boxplot(x=trip_distance_sample, ax=ax[1]);"
   ]
  },
  {
   "cell_type": "markdown",
   "metadata": {
    "slideshow": {
     "slide_type": "slide"
    }
   },
   "source": [
    "# Define the Sample Statistic"
   ]
  },
  {
   "cell_type": "code",
   "execution_count": 5,
   "metadata": {
    "slideshow": {
     "slide_type": "fragment"
    }
   },
   "outputs": [
    {
     "name": "stdout",
     "output_type": "stream",
     "text": [
      "sample mean: 2.14\n"
     ]
    }
   ],
   "source": [
    "trip_distance_sample_xbar = trip_distance_sample.mean()\n",
    "print(f'sample mean: {trip_distance_sample_xbar:0.2f}')"
   ]
  },
  {
   "cell_type": "markdown",
   "metadata": {
    "slideshow": {
     "slide_type": "fragment"
    }
   },
   "source": [
    "- Is this sample statistic a good approximation?\n",
    "\n",
    "- Let's take more samples!"
   ]
  },
  {
   "cell_type": "markdown",
   "metadata": {
    "slideshow": {
     "slide_type": "slide"
    }
   },
   "source": [
    "# Generate Samples and Plot Distribution of Sample Stat."
   ]
  },
  {
   "cell_type": "code",
   "execution_count": 6,
   "metadata": {
    "slideshow": {
     "slide_type": "fragment"
    }
   },
   "outputs": [],
   "source": [
    "sample_means = []\n",
    "for i in range(1000):\n",
    "    sample_mean = df_taxi.trip_distance.sample(n=50,random_state=i).mean()\n",
    "    sample_means.append(sample_mean)"
   ]
  },
  {
   "cell_type": "code",
   "execution_count": 7,
   "metadata": {
    "scrolled": true,
    "slideshow": {
     "slide_type": "fragment"
    }
   },
   "outputs": [
    {
     "data": {
      "image/png": "[encoded data removed]",
      "text/plain": [
       "<Figure size 640x480 with 1 Axes>"
      ]
     },
     "metadata": {},
     "output_type": "display_data"
    }
   ],
   "source": [
    "ax = sns.histplot(x=sample_means)\n",
    "ax.set_xlabel('sample_means');\n",
    "ax.set_ylabel('frequency');\n",
    "ax.axvline(trip_distance_sample_xbar,color='red');"
   ]
  },
  {
   "cell_type": "markdown",
   "metadata": {
    "slideshow": {
     "slide_type": "fragment"
    }
   },
   "source": [
    "But what if we can't generate additional samples? **Bootstrap Confidence Intervals**"
   ]
  },
  {
   "cell_type": "markdown",
   "metadata": {
    "slideshow": {
     "slide_type": "slide"
    }
   },
   "source": [
    "# Confidence Intervals\n",
    "<br>\n",
    "\n",
    "Typically we only have one sample from the population (experimental results, survey results, etc.)"
   ]
  },
  {
   "cell_type": "code",
   "execution_count": 8,
   "metadata": {
    "slideshow": {
     "slide_type": "fragment"
    }
   },
   "outputs": [
    {
     "data": {
      "text/plain": [
       "50"
      ]
     },
     "execution_count": 8,
     "metadata": {},
     "output_type": "execute_result"
    }
   ],
   "source": [
    "n_trip = trip_distance_sample.shape[0]\n",
    "n_trip"
   ]
  },
  {
   "cell_type": "code",
   "execution_count": 9,
   "metadata": {
    "slideshow": {
     "slide_type": "fragment"
    }
   },
   "outputs": [
    {
     "name": "stdout",
     "output_type": "stream",
     "text": [
      "sample mean: 2.14\n"
     ]
    }
   ],
   "source": [
    "trip_distance_sample_xbar = trip_distance_sample.mean()\n",
    "print(f'sample mean: {trip_distance_sample_xbar:0.2f}')"
   ]
  },
  {
   "cell_type": "markdown",
   "metadata": {
    "slideshow": {
     "slide_type": "fragment"
    }
   },
   "source": [
    "- What is the spread of our sample statistic?\n",
    "- What other values would it be reasonable to observe?"
   ]
  },
  {
   "cell_type": "markdown",
   "metadata": {
    "slideshow": {
     "slide_type": "slide"
    }
   },
   "source": [
    "# Plotting Confidence Intervals with Seaborn"
   ]
  },
  {
   "cell_type": "code",
   "execution_count": 10,
   "metadata": {
    "slideshow": {
     "slide_type": "fragment"
    }
   },
   "outputs": [
    {
     "name": "stderr",
     "output_type": "stream",
     "text": [
      "/var/folders/78/vhnqkq8n45dd4gj4f5qx8yb00000gn/T/ipykernel_30545/3208664956.py:3: FutureWarning: \n",
      "\n",
      "The `ci` parameter is deprecated. Use `errorbar=('ci', 95)` for the same effect.\n",
      "\n",
      "  sns.barplot(x=trip_distance_sample,\n"
     ]
    },
    {
     "data": {
      "image/png": "[encoded data removed]",
      "text/plain": [
       "<Figure size 1200x400 with 1 Axes>"
      ]
     },
     "metadata": {},
     "output_type": "display_data"
    }
   ],
   "source": [
    "fig,ax = plt.subplots(1,1,figsize=(12,4))\n",
    "\n",
    "sns.barplot(x=trip_distance_sample,\n",
    "            estimator=np.mean, # default sample statistic\n",
    "            ci=95,             # default 95% CI\n",
    "            n_boot=1000,       # default number of bootstrap samples\n",
    "            color='c',\n",
    "           );"
   ]
  },
  {
   "cell_type": "markdown",
   "metadata": {
    "slideshow": {
     "slide_type": "fragment"
    }
   },
   "source": [
    "- How are these confidence intervals generated from only one sample?\n",
    "- What does a 95% confidence interval mean?"
   ]
  },
  {
   "cell_type": "markdown",
   "metadata": {
    "slideshow": {
     "slide_type": "slide"
    }
   },
   "source": [
    "# Generate Confidence Intervals\n",
    "<br>\n",
    "\n",
    "**Bootstrapping:** sampling with replacement\n",
    "\n",
    "**Bootstrap Confidence Interval:** create confidence interval using bootstrap samples"
   ]
  },
  {
   "cell_type": "markdown",
   "metadata": {
    "slideshow": {
     "slide_type": "fragment"
    }
   },
   "source": [
    "1. draw a random sample of size $n$ from the data\n",
    "1. record the sample statistic from this random sample\n",
    "1. repeat 1 and 2 many times\n",
    "1. for an $x$% CI, find the trim points to remove $\\frac{1}{2}\\left(1−\\frac{x}{100}\\right)$ of the data from both ends\n",
    "1. those trim points are the endpoints of the the $x$% bootstrap CI"
   ]
  },
  {
   "cell_type": "markdown",
   "metadata": {
    "slideshow": {
     "slide_type": "slide"
    }
   },
   "source": [
    "# 1. & 2. Draw a Random Sample and Record Statistic\n",
    "<br>\n"
   ]
  },
  {
   "cell_type": "code",
   "execution_count": 11,
   "metadata": {
    "slideshow": {
     "slide_type": "fragment"
    }
   },
   "outputs": [
    {
     "data": {
      "text/plain": [
       "691    0.7\n",
       "50     0.8\n",
       "882    6.8\n",
       "Name: trip_distance, dtype: float64"
      ]
     },
     "execution_count": 11,
     "metadata": {},
     "output_type": "execute_result"
    }
   ],
   "source": [
    "# 1. draw a random sample with replacement\n",
    "random_sample = trip_distance_sample.sample(\n",
    "    n=trip_distance_sample.shape[0], # same size as number of observations (or frac=1)\n",
    "    replace=True,                     # sample with replacement\n",
    "    random_state=123                  # for reproducability\n",
    ")\n",
    "random_sample.head(3)"
   ]
  },
  {
   "cell_type": "code",
   "execution_count": 12,
   "metadata": {
    "slideshow": {
     "slide_type": "fragment"
    }
   },
   "outputs": [
    {
     "data": {
      "text/plain": [
       "[1.82]"
      ]
     },
     "execution_count": 12,
     "metadata": {},
     "output_type": "execute_result"
    }
   ],
   "source": [
    "# 2. record sample statistic\n",
    "sample_means = []\n",
    "sample_means.append(random_sample.mean())\n",
    "[x.round(2) for x in sample_means]"
   ]
  },
  {
   "cell_type": "markdown",
   "metadata": {
    "slideshow": {
     "slide_type": "slide"
    }
   },
   "source": [
    "# 3. Repeat Many Times"
   ]
  },
  {
   "cell_type": "code",
   "execution_count": 13,
   "metadata": {
    "slideshow": {
     "slide_type": "fragment"
    }
   },
   "outputs": [],
   "source": [
    "# tqdm gives us a progress bar when looping\n",
    "from tqdm.notebook import tqdm "
   ]
  },
  {
   "cell_type": "code",
   "execution_count": 14,
   "metadata": {},
   "outputs": [
    {
     "data": {
      "text/plain": [
       "1000"
      ]
     },
     "execution_count": 14,
     "metadata": {},
     "output_type": "execute_result"
    }
   ],
   "source": [
    "df_taxi.trip_distance.shape[0]"
   ]
  },
  {
   "cell_type": "code",
   "execution_count": 15,
   "metadata": {
    "slideshow": {
     "slide_type": "fragment"
    }
   },
   "outputs": [
    {
     "data": {
      "application/vnd.jupyter.widget-view+json": {
       "model_id": "173ec9619f6e42718d2f8830792f5e5b",
       "version_major": 2,
       "version_minor": 0
      },
      "text/plain": [
       "  0%|          | 0/100 [00:00<?, ?it/s]"
      ]
     },
     "metadata": {},
     "output_type": "display_data"
    },
    {
     "data": {
      "text/plain": [
       "array([2.98, 2.96, 3.02, 2.96, 3.01, 2.92, 2.74, 2.7 , 2.68, 2.82])"
      ]
     },
     "execution_count": 15,
     "metadata": {},
     "output_type": "execute_result"
    }
   ],
   "source": [
    "# 3. repeat 1 and 2 many times\n",
    "num_iterations = 100\n",
    "sample_means = []\n",
    "\n",
    "for i in tqdm(range(num_iterations)):\n",
    "    # 1. draw a random sample of size *n* from the data\n",
    "    random_sample = df_taxi.trip_distance.sample(n=df_taxi.trip_distance.shape[0], # or frac=1\n",
    "                                                 replace=True,   # sample with replacement\n",
    "                                                 random_state=i  # for reproducability\n",
    "                                                )\n",
    "    # 2. record the sample statistic from this random sample\n",
    "    sample_means.append(random_sample.mean())\n",
    "    \n",
    "# convert into a numpy array\n",
    "sample_means = np.array(sample_means)\n",
    "\n",
    "sample_means[:10].round(2)"
   ]
  },
  {
   "cell_type": "markdown",
   "metadata": {
    "slideshow": {
     "slide_type": "slide"
    }
   },
   "source": [
    "# Distribution of Sample Means?"
   ]
  },
  {
   "cell_type": "code",
   "execution_count": 16,
   "metadata": {
    "slideshow": {
     "slide_type": "fragment"
    }
   },
   "outputs": [
    {
     "data": {
      "image/png": "[encoded data removed]",
      "text/plain": [
       "<Figure size 1200x800 with 1 Axes>"
      ]
     },
     "metadata": {},
     "output_type": "display_data"
    }
   ],
   "source": [
    "fig,ax = plt.subplots(1,1,figsize=(12,8))\n",
    "sns.histplot(x=sample_means,kde=True);"
   ]
  },
  {
   "cell_type": "markdown",
   "metadata": {
    "slideshow": {
     "slide_type": "fragment"
    }
   },
   "source": [
    "- Between what two values do 95% of these samples fall?"
   ]
  },
  {
   "cell_type": "markdown",
   "metadata": {
    "slideshow": {
     "slide_type": "slide"
    }
   },
   "source": [
    "# 4 & 5 Find CI Endpoints\n",
    "<br>\n",
    "\n",
    "\n"
   ]
  },
  {
   "cell_type": "code",
   "execution_count": 17,
   "metadata": {
    "slideshow": {
     "slide_type": "fragment"
    }
   },
   "outputs": [
    {
     "data": {
      "text/plain": [
       "3"
      ]
     },
     "execution_count": 17,
     "metadata": {},
     "output_type": "execute_result"
    }
   ],
   "source": [
    "# 4. For a 95% conf. int., trim off .5*(1-(95/100)) of the data from both ends\n",
    "\n",
    "# calculate where to trim\n",
    "trim = .5*(1-.95) * num_iterations\n",
    "\n",
    "# find the closest integer\n",
    "trim = int(np.round(trim))\n",
    "trim"
   ]
  },
  {
   "cell_type": "code",
   "execution_count": 18,
   "metadata": {
    "slideshow": {
     "slide_type": "fragment"
    }
   },
   "outputs": [
    {
     "data": {
      "text/plain": [
       "array([2.68, 3.1 ])"
      ]
     },
     "execution_count": 18,
     "metadata": {},
     "output_type": "execute_result"
    }
   ],
   "source": [
    "# for 1000 iterations and a 95% CI, we want to find the 25th value and (1000-25)th value\n",
    "\n",
    "# 5. those trim points are the endpoints of the the x% Bootstrap CI\n",
    "\n",
    "ci = np.sort(sample_means)[[trim,-trim-1]] # sort the array first!\n",
    "ci.round(2)"
   ]
  },
  {
   "cell_type": "code",
   "execution_count": null,
   "metadata": {},
   "outputs": [],
   "source": []
  },
  {
   "cell_type": "markdown",
   "metadata": {
    "slideshow": {
     "slide_type": "slide"
    }
   },
   "source": [
    "# Plotting Distribution of Sample Means With CIs"
   ]
  },
  {
   "cell_type": "code",
   "execution_count": 19,
   "metadata": {
    "slideshow": {
     "slide_type": "fragment"
    }
   },
   "outputs": [
    {
     "data": {
      "image/png": "[encoded data removed]",
      "text/plain": [
       "<Figure size 1200x800 with 1 Axes>"
      ]
     },
     "metadata": {},
     "output_type": "display_data"
    }
   ],
   "source": [
    "fig,ax = plt.subplots(1,1,figsize=(12,8))\n",
    "ax = sns.histplot(sample_means)\n",
    "ax.axvline(df_taxi.trip_distance.mean(), color='r');\n",
    "ax.axvline(ci[0],color='k');ax.axvline(ci[1],color='k')\n",
    "ax.set_xlabel('bootstrap sample means');\n",
    "ax.set_ylabel('frequency');"
   ]
  },
  {
   "cell_type": "markdown",
   "metadata": {
    "slideshow": {
     "slide_type": "slide"
    }
   },
   "source": [
    "# Interpreting CIs\n",
    "<br>\n",
    "\n",
    "- **Does NOT tell us:** \"the probability that the true value lies within that interval\"\n",
    "\n",
    "- **Tells us:** something about the variablity of this statistic\n",
    "\n",
    "- **Tells us:** how confident we should be that our parameter lies in the interval\n",
    "\n",
    "\n",
    "> If confidence intervals are constructed using a given confidence level from an infinite number of independent sample statistics, the proportion of those intervals that contain the true value of the parameter will be equal to the confidence level."
   ]
  },
  {
   "cell_type": "markdown",
   "metadata": {
    "slideshow": {
     "slide_type": "slide"
    }
   },
   "source": [
    "# Interpreting CIs"
   ]
  },
  {
   "cell_type": "code",
   "execution_count": 20,
   "metadata": {
    "slideshow": {
     "slide_type": "fragment"
    }
   },
   "outputs": [
    {
     "data": {
      "image/png": "[encoded data removed]",
      "text/plain": [
       "<Figure size 1200x600 with 1 Axes>"
      ]
     },
     "metadata": {},
     "output_type": "display_data"
    }
   ],
   "source": [
    "fig,ax = plt.subplots(1,1,figsize=(12,6))\n",
    "sns.barplot(x='is_weekend',y='trip_distance',data=df_taxi);"
   ]
  },
  {
   "cell_type": "markdown",
   "metadata": {
    "slideshow": {
     "slide_type": "slide"
    }
   },
   "source": [
    "<br>\n",
    "<br>\n",
    "\n",
    "# <center>Questions re CIs?</center>\n",
    "<br>\n",
    "<br>\n"
   ]
  },
  {
   "cell_type": "markdown",
   "metadata": {
    "slideshow": {
     "slide_type": "slide"
    }
   },
   "source": [
    "# Hypothesis Testing\n",
    "<br>\n",
    "\n",
    "- Ex: Is the average trip longer on weekends compared to weekdays?\n",
    "- Ex: Does one advertisement lead to more sales than another?\n",
    "<br/>\n",
    "\n",
    "- **Null Hypothesis:** $H_0$\n",
    " - the thing we're observing is happening due to random chance\n",
    " - there are no differences between two groups\n",
    "\n",
    "- **Alternative Hypothesis:** $H_1$\n",
    " - the thing we're observing is happening not due to random chance\n",
    " - there is a difference between two groups\n",
    "\n",
    "- Experiment: given data, do we **accept or reject** $H_0$?\n",
    " - Ex: can we say the difference between average trip on weekdays vs. weekends isn't random?\n"
   ]
  },
  {
   "cell_type": "markdown",
   "metadata": {
    "slideshow": {
     "slide_type": "slide"
    }
   },
   "source": [
    "# Errors in Hypothesis Tests\n",
    "<br>\n",
    "<br>\n",
    "\n",
    "<div align=\"center\"><img src=\"./images/TypeI_TypeII1.jpg\" width=\"800px\"></div>\n",
    "\n",
    "https://www.gilliganondata.com/wp-content/uploads/2009/08/TypeI_TypeII1.JPG"
   ]
  },
  {
   "cell_type": "markdown",
   "metadata": {
    "slideshow": {
     "slide_type": "slide"
    }
   },
   "source": [
    "# Errors in Hypothesis Tests\n",
    "<br>\n",
    "<br>\n",
    "\n",
    "<div align=\"center\"><img src=\"https://flowingdata.com/wp-content/uploads/2014/05/Type-I-and-II-errors1-620x465.jpg\" width=\"700px\"></div>\n",
    "\n",
    "https://flowingdata.com/wp-content/uploads/2014/05/Type-I-and-II-errors1-620x465.jpg"
   ]
  },
  {
   "cell_type": "markdown",
   "metadata": {
    "slideshow": {
     "slide_type": "slide"
    }
   },
   "source": [
    "# Significance and Power\n",
    "<br>\n",
    "<br>"
   ]
  },
  {
   "cell_type": "markdown",
   "metadata": {
    "slideshow": {
     "slide_type": "fragment"
    }
   },
   "source": [
    "- $P\\left(\\text{reject } H_0 \\mid H_0 \\text{ true}\\right)$ = **Significance** of test or **p-value** (Type I Error)\n",
    " - Probablity of saying **things aren't by chance when they are**\n",
    " - Ex: Saying trips on weekends are longer, when the difference *is* random\n",
    " - Ex: Saying Ad A was correlated with more sales, when the difference *is* random\n",
    "<br>\n",
    "<br>"
   ]
  },
  {
   "cell_type": "markdown",
   "metadata": {
    "slideshow": {
     "slide_type": "fragment"
    }
   },
   "source": [
    "- $P\\left(\\text{reject } H_0 \\mid H_1 \\text{ true}\\right)$ = **Power** of test (1-Type II Error)\n",
    " - Probability of saying **things aren't by chance when they aren't**\n",
    " - Ex: Saying trips on weekends are longer, when the difference *is not* random\n",
    " - Ex: Saying Ad A was correlated with more sales, when the difference *is not* random"
   ]
  },
  {
   "cell_type": "markdown",
   "metadata": {
    "slideshow": {
     "slide_type": "slide"
    }
   },
   "source": [
    "# Ex: Trip-Distance by Weekday vs. Weekend"
   ]
  },
  {
   "cell_type": "markdown",
   "metadata": {
    "slideshow": {
     "slide_type": "fragment"
    }
   },
   "source": [
    "- Question: Is the average trip_distance different on weekdays vs weekends?"
   ]
  },
  {
   "cell_type": "code",
   "execution_count": 21,
   "metadata": {},
   "outputs": [
    {
     "data": {
      "image/png": "[encoded data removed]",
      "text/plain": [
       "<Figure size 640x480 with 1 Axes>"
      ]
     },
     "metadata": {},
     "output_type": "display_data"
    }
   ],
   "source": [
    "sns.barplot(x='is_weekend',y='trip_distance',data=df_taxi);"
   ]
  },
  {
   "cell_type": "markdown",
   "metadata": {
    "slideshow": {
     "slide_type": "slide"
    }
   },
   "source": [
    "# Ex: Trip-Distance by Weekday vs. Weekend, Define the Metric\n",
    "<br>\n",
    "\n",
    "\n",
    "- **Metric:** the measure we're interested in\n",
    " - Ex: We're interested in a difference of means: Weekday - Weekend"
   ]
  },
  {
   "cell_type": "code",
   "execution_count": 22,
   "metadata": {
    "slideshow": {
     "slide_type": "fragment"
    }
   },
   "outputs": [
    {
     "name": "stdout",
     "output_type": "stream",
     "text": [
      "observed metric: 0.58\n"
     ]
    }
   ],
   "source": [
    "mean_weekend = df_taxi.loc[df_taxi.is_weekend,'trip_distance'].mean()\n",
    "mean_weekday = df_taxi.loc[~df_taxi.is_weekend,'trip_distance'].mean()\n",
    "observed_trip_metric = mean_weekend-mean_weekday\n",
    "print(f'observed metric: {observed_trip_metric.round(2)}')"
   ]
  },
  {
   "cell_type": "markdown",
   "metadata": {
    "slideshow": {
     "slide_type": "fragment"
    }
   },
   "source": [
    "- Is this surprising? Should we reject the null?\n",
    " - Assuming that $H_0$ is true, is this observation surprising?"
   ]
  },
  {
   "cell_type": "markdown",
   "metadata": {
    "slideshow": {
     "slide_type": "slide"
    }
   },
   "source": [
    "# Permutation Test\n",
    "\n",
    "- How do we generate additional samples of the difference in means? Resampling!\n",
    "- Need to repeatedly split the data into two groups and take the difference in means\n",
    "- One way to do this: combine, permute (reorder) and split"
   ]
  },
  {
   "cell_type": "markdown",
   "metadata": {
    "slideshow": {
     "slide_type": "slide"
    }
   },
   "source": [
    "# Permutation Test\n",
    "<br>\n",
    "\n",
    "1. combine groups together (assume $H_0$ is true)\n",
    "  \n",
    "2. permute (reorder) observations\n",
    "\n",
    "3. create new groups (same sizes as original groups)\n",
    "\n",
    "4. calculate metric\n",
    "\n",
    "5. repeat many times\n",
    "\n",
    "6. see where our original observation falls in the distribution of sample statistics"
   ]
  },
  {
   "cell_type": "markdown",
   "metadata": {
    "slideshow": {
     "slide_type": "slide"
    }
   },
   "source": [
    "#### Ex: Avg Trip-Distance on Weekday vs. Weekend, Permutation Test"
   ]
  },
  {
   "cell_type": "code",
   "execution_count": 23,
   "metadata": {
    "slideshow": {
     "slide_type": "fragment"
    }
   },
   "outputs": [
    {
     "name": "stdout",
     "output_type": "stream",
     "text": [
      "n_weekend=150 n_weekday=850\n"
     ]
    }
   ],
   "source": [
    "# 0. get group sizes\n",
    "n_weekend = df_taxi.is_weekend.sum()\n",
    "n_weekday = (~df_taxi.is_weekend).sum()\n",
    "print(f'{n_weekend=} {n_weekday=}')\n",
    "assert n_weekday + n_weekend == df_taxi.shape[0]"
   ]
  },
  {
   "cell_type": "code",
   "execution_count": 24,
   "metadata": {
    "slideshow": {
     "slide_type": "fragment"
    }
   },
   "outputs": [
    {
     "data": {
      "text/plain": [
       "0    0.89\n",
       "1    2.70\n",
       "Name: trip_distance, dtype: float64"
      ]
     },
     "execution_count": 24,
     "metadata": {},
     "output_type": "execute_result"
    }
   ],
   "source": [
    "# 1. combine groups together (assume H0 is true)\n",
    "trip_distances = df_taxi.trip_distance\n",
    "trip_distances[:2]"
   ]
  },
  {
   "cell_type": "code",
   "execution_count": 25,
   "metadata": {
    "slideshow": {
     "slide_type": "fragment"
    }
   },
   "outputs": [
    {
     "name": "stderr",
     "output_type": "stream",
     "text": [
      "/var/folders/78/vhnqkq8n45dd4gj4f5qx8yb00000gn/T/ipykernel_30545/3380519961.py:3: FutureWarning: The behavior of `series[i:j]` with an integer-dtype index is deprecated. In a future version, this will be treated as *label-based* indexing, consistent with e.g. `series[i]` lookups. To retain the old behavior, use `series.iloc[i:j]`. To get the future behavior, use `series.loc[i:j]`.\n",
      "  permuted_trip_distances[:2]\n"
     ]
    },
    {
     "data": {
      "text/plain": [
       "131    2.13\n",
       "203    2.15\n",
       "Name: trip_distance, dtype: float64"
      ]
     },
     "execution_count": 25,
     "metadata": {},
     "output_type": "execute_result"
    }
   ],
   "source": [
    "# 2. permute observations\n",
    "permuted_trip_distances = trip_distances.sample(frac=1,replace=False,random_state=123)\n",
    "permuted_trip_distances[:2]"
   ]
  },
  {
   "cell_type": "code",
   "execution_count": 26,
   "metadata": {
    "slideshow": {
     "slide_type": "fragment"
    }
   },
   "outputs": [
    {
     "name": "stdout",
     "output_type": "stream",
     "text": [
      "-0.03\n"
     ]
    },
    {
     "name": "stderr",
     "output_type": "stream",
     "text": [
      "/var/folders/78/vhnqkq8n45dd4gj4f5qx8yb00000gn/T/ipykernel_30545/3058261422.py:2: FutureWarning: The behavior of `series[i:j]` with an integer-dtype index is deprecated. In a future version, this will be treated as *label-based* indexing, consistent with e.g. `series[i]` lookups. To retain the old behavior, use `series.iloc[i:j]`. To get the future behavior, use `series.loc[i:j]`.\n",
      "  rand_mean_weekend = permuted_trip_distances[:n_weekend].mean()\n",
      "/var/folders/78/vhnqkq8n45dd4gj4f5qx8yb00000gn/T/ipykernel_30545/3058261422.py:3: FutureWarning: The behavior of `series[i:j]` with an integer-dtype index is deprecated. In a future version, this will be treated as *label-based* indexing, consistent with e.g. `series[i]` lookups. To retain the old behavior, use `series.iloc[i:j]`. To get the future behavior, use `series.loc[i:j]`.\n",
      "  rand_mean_weekday = permuted_trip_distances[n_weekend:].mean()\n"
     ]
    }
   ],
   "source": [
    "# 3. create new groups\n",
    "rand_mean_weekend = permuted_trip_distances[:n_weekend].mean()\n",
    "rand_mean_weekday = permuted_trip_distances[n_weekend:].mean()\n",
    "\n",
    "# 4. calculate metric\n",
    "rand_mean_trip_diff = (rand_mean_weekend - rand_mean_weekday)\n",
    "print('{:.2f}'.format(rand_mean_trip_diff))"
   ]
  },
  {
   "cell_type": "markdown",
   "metadata": {
    "slideshow": {
     "slide_type": "slide"
    }
   },
   "source": [
    "# Ex: Trip-Distance, Permutation Test Continued"
   ]
  },
  {
   "cell_type": "code",
   "execution_count": 27,
   "metadata": {
    "slideshow": {
     "slide_type": "fragment"
    }
   },
   "outputs": [
    {
     "data": {
      "application/vnd.jupyter.widget-view+json": {
       "model_id": "29c1dcceb9df4b68923fcc854a9ff3c2",
       "version_major": 2,
       "version_minor": 0
      },
      "text/plain": [
       "  0%|          | 0/10000 [00:00<?, ?it/s]"
      ]
     },
     "metadata": {},
     "output_type": "display_data"
    },
    {
     "name": "stderr",
     "output_type": "stream",
     "text": [
      "/var/folders/78/vhnqkq8n45dd4gj4f5qx8yb00000gn/T/ipykernel_30545/1315191553.py:8: FutureWarning: The behavior of `series[i:j]` with an integer-dtype index is deprecated. In a future version, this will be treated as *label-based* indexing, consistent with e.g. `series[i]` lookups. To retain the old behavior, use `series.iloc[i:j]`. To get the future behavior, use `series.loc[i:j]`.\n",
      "  rand_mean_weekend = permuted_trip_distances[:n_weekend].mean()\n",
      "/var/folders/78/vhnqkq8n45dd4gj4f5qx8yb00000gn/T/ipykernel_30545/1315191553.py:9: FutureWarning: The behavior of `series[i:j]` with an integer-dtype index is deprecated. In a future version, this will be treated as *label-based* indexing, consistent with e.g. `series[i]` lookups. To retain the old behavior, use `series.iloc[i:j]`. To get the future behavior, use `series.loc[i:j]`.\n",
      "  rand_mean_weekday = permuted_trip_distances[n_weekend:].mean()\n"
     ]
    },
    {
     "data": {
      "text/plain": [
       "array([-0.49, -0.21,  0.58, -0.09, -0.37])"
      ]
     },
     "execution_count": 27,
     "metadata": {},
     "output_type": "execute_result"
    }
   ],
   "source": [
    "# 5. repeat many times\n",
    "rand_mean_trip_diffs = []\n",
    "iterations = 10_000\n",
    "\n",
    "for i in tqdm(range(iterations)):\n",
    "    permuted_trip_distances = trip_distances.sample(frac=1,replace=False,random_state=i)\n",
    "    \n",
    "    rand_mean_weekend = permuted_trip_distances[:n_weekend].mean()\n",
    "    rand_mean_weekday = permuted_trip_distances[n_weekend:].mean()\n",
    "    \n",
    "    rand_mean_trip_diffs.append(rand_mean_weekend - rand_mean_weekday)\n",
    "    \n",
    "rand_mean_trip_diffs = np.array(rand_mean_trip_diffs) # convert list to numpy array\n",
    "    \n",
    "rand_mean_trip_diffs[:5].round(2)"
   ]
  },
  {
   "cell_type": "markdown",
   "metadata": {
    "slideshow": {
     "slide_type": "slide"
    }
   },
   "source": [
    "# Ex: Trip-Distance, Permutation Test Continued"
   ]
  },
  {
   "cell_type": "code",
   "execution_count": 28,
   "metadata": {
    "slideshow": {
     "slide_type": "fragment"
    }
   },
   "outputs": [
    {
     "data": {
      "image/png": "[encoded data removed]",
      "text/plain": [
       "<Figure size 1200x400 with 1 Axes>"
      ]
     },
     "metadata": {},
     "output_type": "display_data"
    }
   ],
   "source": [
    "# 6. see where our original observation falls\n",
    "fig,ax = plt.subplots(1,1,figsize=(12,4))\n",
    "ax = sns.histplot(x=rand_mean_trip_diffs, stat='density')\n",
    "ax.set_xlabel('random mean differences');ax.set_ylabel('frequency');\n",
    "ax.axvline(observed_trip_metric, color='r');"
   ]
  },
  {
   "cell_type": "markdown",
   "metadata": {
    "slideshow": {
     "slide_type": "fragment"
    }
   },
   "source": [
    "- This looks like a normal distribution?\n",
    "- Why would that be?\n",
    "- How can we turn this into a Standard Normal distribution..."
   ]
  },
  {
   "cell_type": "markdown",
   "metadata": {
    "slideshow": {
     "slide_type": "slide"
    }
   },
   "source": [
    "# Aside: Central Limit Theorem"
   ]
  },
  {
   "cell_type": "markdown",
   "metadata": {
    "slideshow": {
     "slide_type": "fragment"
    }
   },
   "source": [
    "If all samples are randomly drawn from the same sample population:\n",
    "\n",
    "For reasonably large samples (usually $n \\ge 30$), the distribution of sample mean $\\bar{x}$ is normal regardless of the distribution of $X$.\n",
    "\n",
    "The sampling distribution of $\\bar{x}$ becomes approximately normal as the the sample size $n$ gets large.\n",
    "\n",
    "Ex: \n",
    "- $X$ = trip_distance\n",
    "- $\\bar{x}$ = mean trip_distance\n",
    "- $n$ = 50"
   ]
  },
  {
   "cell_type": "markdown",
   "metadata": {
    "slideshow": {
     "slide_type": "slide"
    }
   },
   "source": [
    "# Aside: What is Normal?"
   ]
  },
  {
   "cell_type": "markdown",
   "metadata": {
    "slideshow": {
     "slide_type": "fragment"
    }
   },
   "source": [
    "distribution defined by mean ($\\mu$) and standard deviation ($\\sigma$)\n",
    "\n",
    "\n",
    "$N(x;\\mu,\\sigma) = \\frac{1}{\\sqrt{2\\pi}\\sigma}e^{-\\frac{(x-\\mu)^2}{2\\sigma}}$\n",
    "\n",
    "\n",
    "**PDF (Probability Density Function):** \n",
    "- function of a continuous random variable that provides a relative likelihood of seeing a particular sample of a random variable."
   ]
  },
  {
   "cell_type": "markdown",
   "metadata": {
    "slideshow": {
     "slide_type": "slide"
    }
   },
   "source": [
    "# Aside: Properties of a Normal Distribution\n",
    "<br>\n",
    "<br>\n",
    "\n",
    "<div align=\"center\"><img src=\"https://miro.medium.com/max/700/1*IZ2II2HYKeoMrdLU5jW6Dw.png\" width=\"1000\"></div>\n",
    "\n",
    "https://towardsdatascience.com/understanding-the-68-95-99-7-rule-for-a-normal-distribution-b7b7cbf760c2"
   ]
  },
  {
   "cell_type": "markdown",
   "metadata": {
    "slideshow": {
     "slide_type": "slide"
    }
   },
   "source": [
    "# Aside: Scipy\n",
    "\n",
    "- Routines for numerical integration, interpolation, optimization, linear algebra, and **statistics**.\n",
    "- Useful for sampling from random distributions and equation based testing\n",
    "<br>\n",
    "<br>\n",
    "\n",
    "<div align=\"center\"><img src=\"https://www.fullstackpython.com/img/logos/scipy.png\" width=\"800px\"></div>"
   ]
  },
  {
   "cell_type": "code",
   "execution_count": 29,
   "metadata": {
    "slideshow": {
     "slide_type": "fragment"
    }
   },
   "outputs": [],
   "source": [
    "import scipy as sp"
   ]
  },
  {
   "cell_type": "markdown",
   "metadata": {
    "slideshow": {
     "slide_type": "slide"
    }
   },
   "source": [
    "# Aside: Plotting a Standard Normal Distribution\n",
    "\n",
    "- **Standard Normal:** μ=0, σ=1\n",
    "- Often referred to as $Z$"
   ]
  },
  {
   "cell_type": "code",
   "execution_count": 30,
   "metadata": {
    "slideshow": {
     "slide_type": "fragment"
    }
   },
   "outputs": [
    {
     "data": {
      "image/png": "[encoded data removed]",
      "text/plain": [
       "<Figure size 1200x600 with 1 Axes>"
      ]
     },
     "metadata": {},
     "output_type": "display_data"
    }
   ],
   "source": [
    "x = np.random.normal(0,1,size=100_000)                       # generate many random samples\n",
    "fig,ax = plt.subplots(1,1,figsize=(12,6))\n",
    "ax = sns.histplot(x=x,stat='density',kde=True);              # using density to normalize bin counts\n",
    "ax.set_xlabel('$x$');ax.set_ylabel('$N(x;\\mu=0,\\sigma=1)$'); # using latex in labels\n",
    "ax.vlines([-1,1],0,sp.stats.norm.pdf(1), colors='k');        # 1 standard deviation\n",
    "ax.vlines([-2,2],0,sp.stats.norm.pdf(2), colors='r');        # 2 standard deviations"
   ]
  },
  {
   "cell_type": "markdown",
   "metadata": {
    "slideshow": {
     "slide_type": "slide"
    }
   },
   "source": [
    "# Normalization: z-score\n",
    "\n",
    "Convert our distribution to an approximation of standard normal\n",
    "\n",
    "1. shift mean to 0\n",
    "2. transform to standard deviation of 1\n",
    "\n",
    "<center>$\\Large z = \\frac{x - \\bar{x}}{s}$</center>\n"
   ]
  },
  {
   "cell_type": "code",
   "execution_count": 31,
   "metadata": {
    "slideshow": {
     "slide_type": "fragment"
    }
   },
   "outputs": [
    {
     "data": {
      "text/plain": [
       "[(-0.49, -1.47), (-0.21, -0.64), (0.58, 1.77)]"
      ]
     },
     "execution_count": 31,
     "metadata": {},
     "output_type": "execute_result"
    }
   ],
   "source": [
    "rand_mean_trip_diffs_xbar = np.mean(rand_mean_trip_diffs)\n",
    "rand_mean_trip_diffs_s = np.std(rand_mean_trip_diffs)\n",
    "\n",
    "rand_mean_trip_zscores = (rand_mean_trip_diffs - rand_mean_trip_diffs_xbar) / rand_mean_trip_diffs_s\n",
    "list(zip(rand_mean_trip_diffs[:3].round(2),rand_mean_trip_zscores[:3].round(2)))"
   ]
  },
  {
   "cell_type": "code",
   "execution_count": 32,
   "metadata": {
    "slideshow": {
     "slide_type": "fragment"
    }
   },
   "outputs": [
    {
     "data": {
      "text/plain": [
       "(0.58, 1.76)"
      ]
     },
     "execution_count": 32,
     "metadata": {},
     "output_type": "execute_result"
    }
   ],
   "source": [
    "observed_trip_metric_zscore =  (observed_trip_metric - rand_mean_trip_diffs_xbar) / rand_mean_trip_diffs_s\n",
    "observed_trip_metric.round(2),observed_trip_metric_zscore.round(2)"
   ]
  },
  {
   "cell_type": "markdown",
   "metadata": {
    "slideshow": {
     "slide_type": "slide"
    }
   },
   "source": [
    "# Ex: Trip-Distance, Permutation Test Continued"
   ]
  },
  {
   "cell_type": "code",
   "execution_count": 33,
   "metadata": {
    "slideshow": {
     "slide_type": "fragment"
    }
   },
   "outputs": [
    {
     "data": {
      "image/png": "[encoded data removed]",
      "text/plain": [
       "<Figure size 1200x200 with 1 Axes>"
      ]
     },
     "metadata": {},
     "output_type": "display_data"
    }
   ],
   "source": [
    "# 6. see where our original observation falls (normalized)\n",
    "fig,ax = plt.subplots(1,1,figsize=(12,2))\n",
    "ax = sns.histplot(rand_mean_trip_zscores, stat='density')\n",
    "ax.set_xlabel('random mean differences normed');ax.set_ylabel('frequency');\n",
    "ax.axvline(observed_trip_metric_zscore,color='r');"
   ]
  },
  {
   "cell_type": "code",
   "execution_count": 34,
   "metadata": {
    "slideshow": {
     "slide_type": "fragment"
    }
   },
   "outputs": [
    {
     "data": {
      "image/png": "[encoded data removed]",
      "text/plain": [
       "<Figure size 1200x200 with 1 Axes>"
      ]
     },
     "metadata": {},
     "output_type": "display_data"
    }
   ],
   "source": [
    "# Compared to our original distribution\n",
    "fig,ax = plt.subplots(1,1,figsize=(12,2))\n",
    "ax = sns.histplot(x=rand_mean_trip_diffs, stat='density')\n",
    "ax.set_xlabel('random mean differences');ax.set_ylabel('frequency');\n",
    "ax.axvline(observed_trip_metric, color='r');"
   ]
  },
  {
   "cell_type": "markdown",
   "metadata": {
    "slideshow": {
     "slide_type": "slide"
    }
   },
   "source": [
    "# Why Use Permutation Tests?\n",
    "<br>\n",
    "\n",
    "- data can be numeric or boolean (ex. temperature, conversion, etc)\n",
    "\n",
    "- group sizes can be different\n",
    "\n",
    "- assumptions about normally distributed data are not needed (with many permutations)"
   ]
  },
  {
   "cell_type": "markdown",
   "metadata": {
    "slideshow": {
     "slide_type": "slide"
    }
   },
   "source": [
    "# A/B Tests\n",
    "<br>\n",
    "\n",
    "\n",
    "- Do one of two treatments produce superior results?\n",
    " - testing two prices to determine which generates more profit\n",
    " - testing two web headlines to determine which produces more clicks\n",
    " - testing two advertisements to see which produces more conversions\n",
    "\n",
    "- Often Used Test Statistics\n",
    " - difference in means\n",
    " - difference in counts"
   ]
  },
  {
   "cell_type": "markdown",
   "metadata": {
    "slideshow": {
     "slide_type": "slide"
    }
   },
   "source": [
    "# Ex: Webpages and Sales\n",
    "<br>\n",
    "\n",
    "- Question: Which webpage leads to more sales?\n",
    "\n",
    "- Potential Issue: what if sales are large but infrequent?\n",
    "\n",
    "- **Proxy Variable:** stand in for true value of interest\n",
    " - Ex: Assume 'time on page' is correlated with sales"
   ]
  },
  {
   "cell_type": "code",
   "execution_count": 35,
   "metadata": {
    "slideshow": {
     "slide_type": "fragment"
    }
   },
   "outputs": [
    {
     "name": "stdout",
     "output_type": "stream",
     "text": [
      "(36, 2)\n"
     ]
    },
    {
     "data": {
      "text/html": [
       "<div>\n",
       "<style scoped>\n",
       "    .dataframe tbody tr th:only-of-type {\n",
       "        vertical-align: middle;\n",
       "    }\n",
       "\n",
       "    .dataframe tbody tr th {\n",
       "        vertical-align: top;\n",
       "    }\n",
       "\n",
       "    .dataframe thead th {\n",
       "        text-align: right;\n",
       "    }\n",
       "</style>\n",
       "<table border=\"1\" class=\"dataframe\">\n",
       "  <thead>\n",
       "    <tr style=\"text-align: right;\">\n",
       "      <th></th>\n",
       "      <th>Page</th>\n",
       "      <th>Time</th>\n",
       "    </tr>\n",
       "  </thead>\n",
       "  <tbody>\n",
       "    <tr>\n",
       "      <th>0</th>\n",
       "      <td>Page A</td>\n",
       "      <td>12.6</td>\n",
       "    </tr>\n",
       "    <tr>\n",
       "      <th>1</th>\n",
       "      <td>Page B</td>\n",
       "      <td>151.7</td>\n",
       "    </tr>\n",
       "    <tr>\n",
       "      <th>2</th>\n",
       "      <td>Page A</td>\n",
       "      <td>21.0</td>\n",
       "    </tr>\n",
       "  </tbody>\n",
       "</table>\n",
       "</div>"
      ],
      "text/plain": [
       "     Page   Time\n",
       "0  Page A   12.6\n",
       "1  Page B  151.7\n",
       "2  Page A   21.0"
      ]
     },
     "execution_count": 35,
     "metadata": {},
     "output_type": "execute_result"
    }
   ],
   "source": [
    "session_times = pd.read_csv('../data/web_page_data.csv')\n",
    "print(session_times.shape)\n",
    "\n",
    "session_times.head(3)"
   ]
  },
  {
   "cell_type": "markdown",
   "metadata": {
    "slideshow": {
     "slide_type": "slide"
    }
   },
   "source": [
    "# Ex: Webpages and Sales"
   ]
  },
  {
   "cell_type": "code",
   "execution_count": 36,
   "metadata": {
    "slideshow": {
     "slide_type": "fragment"
    }
   },
   "outputs": [
    {
     "data": {
      "image/png": "[encoded data removed]",
      "text/plain": [
       "<Figure size 1200x400 with 3 Axes>"
      ]
     },
     "metadata": {},
     "output_type": "display_data"
    }
   ],
   "source": [
    "fig,ax = plt.subplots(1,3,figsize=(12,4),sharey=True)\n",
    "sns.boxplot(x='Page',y='Time',data=session_times,ax=ax[0]);\n",
    "sns.swarmplot(x='Page',y='Time',data=session_times,ax=ax[1]);\n",
    "sns.barplot(x='Page',y='Time',data=session_times,ax=ax[2]);"
   ]
  },
  {
   "cell_type": "markdown",
   "metadata": {
    "slideshow": {
     "slide_type": "slide"
    }
   },
   "source": [
    "# Ex: Webpages and Sales, Define the Metric\n",
    "<br>\n",
    "\n",
    "\n",
    "- **Metric:** the measure we're interested in\n",
    " - Ex: We're interested in a difference of means (Page A - Page B)"
   ]
  },
  {
   "cell_type": "code",
   "execution_count": 37,
   "metadata": {
    "slideshow": {
     "slide_type": "fragment"
    }
   },
   "outputs": [
    {
     "name": "stdout",
     "output_type": "stream",
     "text": [
      "observed metric: -49.77\n"
     ]
    }
   ],
   "source": [
    "mean_a = session_times.loc[session_times.Page == 'Page A','Time'].mean()\n",
    "mean_b = session_times[session_times.Page == 'Page B'].Time.mean()\n",
    "observed_ad_metric = mean_a-mean_b\n",
    "print('observed metric: {:0.2f}'.format(observed_ad_metric))"
   ]
  },
  {
   "cell_type": "markdown",
   "metadata": {
    "slideshow": {
     "slide_type": "slide"
    }
   },
   "source": [
    "# Ex: Websites and Sales, Permutation Test"
   ]
  },
  {
   "cell_type": "code",
   "execution_count": 38,
   "metadata": {
    "slideshow": {
     "slide_type": "fragment"
    }
   },
   "outputs": [
    {
     "name": "stdout",
     "output_type": "stream",
     "text": [
      "n_a=21 n_b=15\n"
     ]
    }
   ],
   "source": [
    "# 0. get group sizes\n",
    "n_a = (session_times.Page == 'Page A').sum()\n",
    "n_b = session_times.shape[0] - n_a\n",
    "print(f'{n_a=} {n_b=}')"
   ]
  },
  {
   "cell_type": "code",
   "execution_count": 39,
   "metadata": {
    "slideshow": {
     "slide_type": "fragment"
    }
   },
   "outputs": [
    {
     "data": {
      "text/plain": [
       "0     12.6\n",
       "1    151.7\n",
       "Name: Time, dtype: float64"
      ]
     },
     "execution_count": 39,
     "metadata": {},
     "output_type": "execute_result"
    }
   ],
   "source": [
    "# 1. combine groups together (assume H0 is true)\n",
    "session_times.Time[:2]"
   ]
  },
  {
   "cell_type": "code",
   "execution_count": 40,
   "metadata": {
    "slideshow": {
     "slide_type": "fragment"
    }
   },
   "outputs": [
    {
     "name": "stderr",
     "output_type": "stream",
     "text": [
      "/var/folders/78/vhnqkq8n45dd4gj4f5qx8yb00000gn/T/ipykernel_30545/1235933868.py:3: FutureWarning: The behavior of `series[i:j]` with an integer-dtype index is deprecated. In a future version, this will be treated as *label-based* indexing, consistent with e.g. `series[i]` lookups. To retain the old behavior, use `series.iloc[i:j]`. To get the future behavior, use `series.loc[i:j]`.\n",
      "  session_times_permuted[:2]\n"
     ]
    },
    {
     "data": {
      "text/plain": [
       "6    50.5\n",
       "8    79.2\n",
       "Name: Time, dtype: float64"
      ]
     },
     "execution_count": 40,
     "metadata": {},
     "output_type": "execute_result"
    }
   ],
   "source": [
    "# 2. permute observations\n",
    "session_times_permuted = session_times.Time.sample(frac=1,replace=False,random_state=123)\n",
    "session_times_permuted[:2]"
   ]
  },
  {
   "cell_type": "code",
   "execution_count": 41,
   "metadata": {
    "slideshow": {
     "slide_type": "fragment"
    }
   },
   "outputs": [
    {
     "name": "stdout",
     "output_type": "stream",
     "text": [
      "11.89\n"
     ]
    },
    {
     "name": "stderr",
     "output_type": "stream",
     "text": [
      "/var/folders/78/vhnqkq8n45dd4gj4f5qx8yb00000gn/T/ipykernel_30545/1001128447.py:2: FutureWarning: The behavior of `series[i:j]` with an integer-dtype index is deprecated. In a future version, this will be treated as *label-based* indexing, consistent with e.g. `series[i]` lookups. To retain the old behavior, use `series.iloc[i:j]`. To get the future behavior, use `series.loc[i:j]`.\n",
      "  rand_mean_a = session_times_permuted[:n_a].mean()\n",
      "/var/folders/78/vhnqkq8n45dd4gj4f5qx8yb00000gn/T/ipykernel_30545/1001128447.py:3: FutureWarning: The behavior of `series[i:j]` with an integer-dtype index is deprecated. In a future version, this will be treated as *label-based* indexing, consistent with e.g. `series[i]` lookups. To retain the old behavior, use `series.iloc[i:j]`. To get the future behavior, use `series.loc[i:j]`.\n",
      "  rand_mean_b = session_times_permuted[n_a:].mean()\n"
     ]
    }
   ],
   "source": [
    "# 3. create new groups\n",
    "rand_mean_a = session_times_permuted[:n_a].mean()\n",
    "rand_mean_b = session_times_permuted[n_a:].mean()\n",
    "\n",
    "# 4. calculate metric\n",
    "rand_mean_ad_diff = (rand_mean_a - rand_mean_b)\n",
    "print('{:.2f}'.format(rand_mean_ad_diff))"
   ]
  },
  {
   "cell_type": "markdown",
   "metadata": {
    "slideshow": {
     "slide_type": "slide"
    }
   },
   "source": [
    "# Ex: Websites and Sales, Permutation Test Continued"
   ]
  },
  {
   "cell_type": "code",
   "execution_count": 42,
   "metadata": {
    "slideshow": {
     "slide_type": "fragment"
    }
   },
   "outputs": [
    {
     "data": {
      "application/vnd.jupyter.widget-view+json": {
       "model_id": "caa94dc6f14c4e95a4cdce488ce49966",
       "version_major": 2,
       "version_minor": 0
      },
      "text/plain": [
       "  0%|          | 0/10000 [00:00<?, ?it/s]"
      ]
     },
     "metadata": {},
     "output_type": "display_data"
    },
    {
     "data": {
      "text/plain": [
       "array([  9.79, -13.71, -15.83,  34.99,  -4.67])"
      ]
     },
     "execution_count": 42,
     "metadata": {},
     "output_type": "execute_result"
    }
   ],
   "source": [
    "# 5. repeat many times\n",
    "rand_mean_ad_diffs = []\n",
    "iterations = 10_000\n",
    "\n",
    "for i in tqdm(range(iterations)):\n",
    "    session_times_permuted = session_times.Time.sample(frac=1,replace=False,random_state=i)\n",
    "    \n",
    "    rand_mean_a = session_times_permuted.iloc[:n_a].mean()\n",
    "    rand_mean_b = session_times_permuted.iloc[n_a:].mean()\n",
    "    \n",
    "    rand_mean_ad_diffs.append(rand_mean_a - rand_mean_b)\n",
    "\n",
    "rand_mean_ad_diffs = np.array(rand_mean_ad_diffs)\n",
    "rand_mean_ad_diffs[:5].round(2)"
   ]
  },
  {
   "cell_type": "markdown",
   "metadata": {
    "slideshow": {
     "slide_type": "slide"
    }
   },
   "source": [
    "# Ex: Websites and Sales, Permutation Test Continued"
   ]
  },
  {
   "cell_type": "code",
   "execution_count": 43,
   "metadata": {
    "slideshow": {
     "slide_type": "fragment"
    }
   },
   "outputs": [
    {
     "data": {
      "image/png": "[encoded data removed]",
      "text/plain": [
       "<Figure size 1200x800 with 1 Axes>"
      ]
     },
     "metadata": {},
     "output_type": "display_data"
    }
   ],
   "source": [
    "# 6. see where our original observation falls\n",
    "fig,ax = plt.subplots(1,1,figsize=(12,8))\n",
    "ax = sns.histplot(x=rand_mean_ad_diffs, stat='density')\n",
    "ax.set_xlabel('random mean differences');ax.set_ylabel('frequency');\n",
    "ax.axvline(observed_ad_metric, color='r');"
   ]
  },
  {
   "cell_type": "markdown",
   "metadata": {
    "slideshow": {
     "slide_type": "slide"
    }
   },
   "source": [
    "# Ex: Websites and Sales, Permutation Test Continued\n"
   ]
  },
  {
   "cell_type": "code",
   "execution_count": 44,
   "metadata": {
    "slideshow": {
     "slide_type": "fragment"
    }
   },
   "outputs": [
    {
     "data": {
      "text/plain": [
       "[(9.79, 0.5), (-13.71, -0.69), (-15.83, -0.8)]"
      ]
     },
     "execution_count": 44,
     "metadata": {},
     "output_type": "execute_result"
    }
   ],
   "source": [
    "# Normalize our values\n",
    "rand_mean_ad_diffs_xbar = np.mean(rand_mean_ad_diffs)\n",
    "rand_mean_ad_diffs_s    = np.std(rand_mean_ad_diffs)\n",
    "\n",
    "rand_mean_ad_zscores = (rand_mean_ad_diffs - rand_mean_ad_diffs_xbar) / rand_mean_ad_diffs_s\n",
    "list(zip(rand_mean_ad_diffs[:3].round(2),rand_mean_ad_zscores[:3].round(2)))"
   ]
  },
  {
   "cell_type": "code",
   "execution_count": 45,
   "metadata": {
    "slideshow": {
     "slide_type": "fragment"
    }
   },
   "outputs": [
    {
     "data": {
      "text/plain": [
       "(-49.77, -2.52)"
      ]
     },
     "execution_count": 45,
     "metadata": {},
     "output_type": "execute_result"
    }
   ],
   "source": [
    "observed_ad_metric_zscore =  (observed_ad_metric - rand_mean_ad_diffs_xbar) / rand_mean_ad_diffs_s\n",
    "observed_ad_metric.round(2),observed_ad_metric_zscore.round(2)"
   ]
  },
  {
   "cell_type": "markdown",
   "metadata": {
    "slideshow": {
     "slide_type": "slide"
    }
   },
   "source": [
    "# Ex: Websites and Sales, Permutation Test Continued"
   ]
  },
  {
   "cell_type": "code",
   "execution_count": 46,
   "metadata": {
    "slideshow": {
     "slide_type": "fragment"
    }
   },
   "outputs": [
    {
     "data": {
      "image/png": "[encoded data removed]",
      "text/plain": [
       "<Figure size 1200x800 with 1 Axes>"
      ]
     },
     "metadata": {},
     "output_type": "display_data"
    }
   ],
   "source": [
    "# 6. see where our original observation falls (normalized)\n",
    "fig,ax = plt.subplots(1,1,figsize=(12,8))\n",
    "ax = sns.histplot(rand_mean_ad_zscores, stat='density')\n",
    "ax.set_xlabel('random mean differences normed');ax.set_ylabel('frequency');\n",
    "ax.axvline(observed_ad_metric_zscore,color='r');"
   ]
  },
  {
   "cell_type": "markdown",
   "metadata": {
    "slideshow": {
     "slide_type": "slide"
    }
   },
   "source": [
    "# How sure are we?\n",
    "<br>\n",
    "\n",
    "- **p-value**\n",
    "\n",
    "> The probability of finding the observed result, or one more extreme, when the null hypothesis ($H_0$) is true."
   ]
  },
  {
   "cell_type": "markdown",
   "metadata": {
    "slideshow": {
     "slide_type": "fragment"
    }
   },
   "source": [
    "- **does mean** : $P\\left(\\text{data} \\mid H_0 \\text{ is true}\\right)$\n",
    "\n"
   ]
  },
  {
   "cell_type": "markdown",
   "metadata": {
    "slideshow": {
     "slide_type": "fragment"
    }
   },
   "source": [
    "- **does NOT mean** : $P\\left(H_0 \\text{ is not true} \\mid \\text{data}\\right)$\n",
    "\n"
   ]
  },
  {
   "cell_type": "markdown",
   "metadata": {
    "slideshow": {
     "slide_type": "fragment"
    }
   },
   "source": [
    "- Our question about significance becomes:\n",
    "\n",
    "> \"How often did we see a value as or more extreme than our observed metric?\""
   ]
  },
  {
   "cell_type": "markdown",
   "metadata": {
    "slideshow": {
     "slide_type": "slide"
    }
   },
   "source": [
    "# One-Tailed vs Two-Tailed Tests\n",
    "<br>\n",
    "<br>\n",
    "\n",
    "<div align=\"center\"><img src=\"http://www.fao.org/3/X6831E/X6831E120.gif\", width=\"800px\"></div>\n",
    "    \n",
    "https://towardsdatascience.com/one-tailed-or-two-tailed-test-that-is-the-question-1283387f631c?gi=9568e456cd13"
   ]
  },
  {
   "cell_type": "markdown",
   "metadata": {
    "slideshow": {
     "slide_type": "slide"
    }
   },
   "source": [
    "# Choosing One-Tailed vs Two-Tailed\n",
    "<br>\n",
    "\n",
    "- Do we have a strong reason for a one-directional question? One-Tailed\n",
    " - Ex: $H_0$ is \"difference is less than or equal to 0\"\n",
    " - Need a strong reason\n",
    "\n",
    "\n",
    "- Otherwise? Two-tailed\n",
    " - Ex: $H_0$ is \"there is no real difference between groups\"\n",
    " - More conservative\n",
    " - Usually a better choice"
   ]
  },
  {
   "cell_type": "markdown",
   "metadata": {
    "slideshow": {
     "slide_type": "slide"
    }
   },
   "source": [
    "# Calculating p for Two-Tailed Test"
   ]
  },
  {
   "cell_type": "code",
   "execution_count": 47,
   "metadata": {
    "slideshow": {
     "slide_type": "fragment"
    }
   },
   "outputs": [],
   "source": [
    "# find absolute values greater than our observed_metric\n",
    "ad_gt = np.abs(rand_mean_ad_diffs) >= np.abs(observed_ad_metric)"
   ]
  },
  {
   "cell_type": "code",
   "execution_count": 48,
   "metadata": {
    "slideshow": {
     "slide_type": "fragment"
    }
   },
   "outputs": [
    {
     "name": "stdout",
     "output_type": "stream",
     "text": [
      "p = 0.0078\n"
     ]
    }
   ],
   "source": [
    "# how many are greater than or equal to?\n",
    "num_ad_gt = ad_gt.sum()\n",
    "\n",
    "# proportion of total that are as or more extreme\n",
    "p = num_ad_gt / len(rand_mean_ad_diffs)\n",
    "print(f'{p = :}')"
   ]
  },
  {
   "cell_type": "markdown",
   "metadata": {
    "slideshow": {
     "slide_type": "slide"
    }
   },
   "source": [
    "# One-Tailed Test Example"
   ]
  },
  {
   "cell_type": "code",
   "execution_count": 49,
   "metadata": {
    "slideshow": {
     "slide_type": "fragment"
    }
   },
   "outputs": [
    {
     "data": {
      "text/plain": [
       "0.0037"
      ]
     },
     "execution_count": 49,
     "metadata": {},
     "output_type": "execute_result"
    }
   ],
   "source": [
    "# one-tailed test\n",
    "sum(np.array(rand_mean_ad_diffs) <= observed_ad_metric) / len(rand_mean_ad_diffs)"
   ]
  },
  {
   "cell_type": "markdown",
   "metadata": {
    "slideshow": {
     "slide_type": "fragment"
    }
   },
   "source": [
    "Note that this is less than our Two-Tailed value!"
   ]
  },
  {
   "cell_type": "code",
   "execution_count": 50,
   "metadata": {
    "slideshow": {
     "slide_type": "fragment"
    }
   },
   "outputs": [
    {
     "data": {
      "text/plain": [
       "0.0078"
      ]
     },
     "execution_count": 50,
     "metadata": {},
     "output_type": "execute_result"
    }
   ],
   "source": [
    "# two-tailed test\n",
    "sum(np.abs(rand_mean_ad_diffs) >= np.abs(observed_ad_metric)) / len(rand_mean_ad_diffs)"
   ]
  },
  {
   "cell_type": "markdown",
   "metadata": {
    "slideshow": {
     "slide_type": "slide"
    }
   },
   "source": [
    "# Equation Based Hypothesis Test: t-Test \n",
    "<br>"
   ]
  },
  {
   "cell_type": "markdown",
   "metadata": {
    "slideshow": {
     "slide_type": "fragment"
    }
   },
   "source": [
    "- based on the Student-t distribution\n",
    "- more involved to describe\n",
    "- works for numeric data (can't use it for the next example)"
   ]
  },
  {
   "cell_type": "code",
   "execution_count": 51,
   "metadata": {
    "slideshow": {
     "slide_type": "fragment"
    }
   },
   "outputs": [
    {
     "name": "stdout",
     "output_type": "stream",
     "text": [
      "t.pvalue = 0.010\n"
     ]
    }
   ],
   "source": [
    "# using our session_times example\n",
    "t = sp.stats.ttest_ind(session_times[session_times.Page == 'Page A'].Time.values,\n",
    "                       session_times[session_times.Page == 'Page B'].Time.values,\n",
    "                       equal_var=False)\n",
    "print(f'{t.pvalue = :0.3f}')"
   ]
  },
  {
   "cell_type": "markdown",
   "metadata": {
    "slideshow": {
     "slide_type": "fragment"
    }
   },
   "source": [
    "- close to the 0.008 value we found via permutation test"
   ]
  },
  {
   "cell_type": "markdown",
   "metadata": {
    "slideshow": {
     "slide_type": "slide"
    }
   },
   "source": [
    "# Choosing $\\alpha$\n",
    "<br>\n",
    "\n",
    "- **alpha** ($\\alpha$): significance level\n",
    " - What we compare our p-value to\n",
    " - Best to choose this before calculating metrics\n",
    " - Probability of rejecting the null when it is true (Type I Error)\n",
    "\n",
    "- Common values:\n",
    " - .1 (Error 1 out of 10 times)\n",
    " - .05 (Error 1 out of 20 times)\n",
    " - .01 (Error 1 out of 100 times)\n",
    "\n",
    "\n",
    "- Should depend on how bad a Type I (False Positive) Error is"
   ]
  },
  {
   "cell_type": "markdown",
   "metadata": {
    "slideshow": {
     "slide_type": "slide"
    }
   },
   "source": [
    "# Another Example: Price vs Conversion\n",
    "<br>\n",
    "\n",
    "\n",
    "- Does Price A lead to higher conversions than Price B?\n",
    "- **Conversion:** Turning a visit into a sale\n",
    "\n",
    "- $H_0$: conversions for Price A ≤ conversions for Price B \n",
    " - Price A does not lead to more conversions\n",
    " \n",
    "- $H_1$: conversions for Price A > conversions for Price B \n",
    " - Price A leads to more conversions"
   ]
  },
  {
   "cell_type": "code",
   "execution_count": 52,
   "metadata": {
    "slideshow": {
     "slide_type": "fragment"
    }
   },
   "outputs": [
    {
     "data": {
      "text/html": [
       "<div>\n",
       "<style scoped>\n",
       "    .dataframe tbody tr th:only-of-type {\n",
       "        vertical-align: middle;\n",
       "    }\n",
       "\n",
       "    .dataframe tbody tr th {\n",
       "        vertical-align: top;\n",
       "    }\n",
       "\n",
       "    .dataframe thead th {\n",
       "        text-align: right;\n",
       "    }\n",
       "</style>\n",
       "<table border=\"1\" class=\"dataframe\">\n",
       "  <thead>\n",
       "    <tr style=\"text-align: right;\">\n",
       "      <th></th>\n",
       "      <th>Price A</th>\n",
       "      <th>Price B</th>\n",
       "    </tr>\n",
       "  </thead>\n",
       "  <tbody>\n",
       "    <tr>\n",
       "      <th>Conversion</th>\n",
       "      <td>200</td>\n",
       "      <td>182</td>\n",
       "    </tr>\n",
       "    <tr>\n",
       "      <th>No Conversion</th>\n",
       "      <td>23539</td>\n",
       "      <td>22406</td>\n",
       "    </tr>\n",
       "  </tbody>\n",
       "</table>\n",
       "</div>"
      ],
      "text/plain": [
       "               Price A  Price B\n",
       "Conversion         200      182\n",
       "No Conversion    23539    22406"
      ]
     },
     "execution_count": 52,
     "metadata": {},
     "output_type": "execute_result"
    }
   ],
   "source": [
    "# Counts of observations\n",
    "df = pd.DataFrame({'Price A':[200,23539],\n",
    "                   'Price B':[182,22406]},\n",
    "                   index=['Conversion','No Conversion'])\n",
    "df"
   ]
  },
  {
   "cell_type": "markdown",
   "metadata": {
    "slideshow": {
     "slide_type": "slide"
    }
   },
   "source": [
    "# Another Example: Price vs Conversion Continued\n",
    "\n",
    "- Metric of Interest?\n",
    " - difference in percent conversion\n",
    " "
   ]
  },
  {
   "cell_type": "code",
   "execution_count": 53,
   "metadata": {
    "scrolled": true,
    "slideshow": {
     "slide_type": "fragment"
    }
   },
   "outputs": [
    {
     "data": {
      "text/plain": [
       "Price A    0.84\n",
       "Price B    0.81\n",
       "dtype: float64"
      ]
     },
     "execution_count": 53,
     "metadata": {},
     "output_type": "execute_result"
    }
   ],
   "source": [
    "pct_conv = df.loc['Conversion'] / df.sum(axis=0) * 100\n",
    "pct_conv.round(2)"
   ]
  },
  {
   "cell_type": "code",
   "execution_count": 54,
   "metadata": {
    "slideshow": {
     "slide_type": "fragment"
    }
   },
   "outputs": [
    {
     "name": "stdout",
     "output_type": "stream",
     "text": [
      "0.037%\n"
     ]
    }
   ],
   "source": [
    "diff_pct_conv = pct_conv['Price A'] - pct_conv['Price B']\n",
    "print(f'{diff_pct_conv.round(3)}%')"
   ]
  },
  {
   "cell_type": "markdown",
   "metadata": {
    "slideshow": {
     "slide_type": "slide"
    }
   },
   "source": [
    "# Another Example: Price vs Conversion Continued\n",
    "<br>\n",
    "\n",
    "\n",
    "- First: Choose our $\\alpha$: 0.05\n",
    "\n",
    "- Reminder of Permutation Test:\n",
    " 0. get group sizes\n",
    " 1. combine groups together\n",
    " 2. permute observations\n",
    " 3. create two new groups (same sizes as originals)\n",
    " 4. calculate metric\n",
    " 5. repeat many times\n",
    " 6. see where our original observation falls"
   ]
  },
  {
   "cell_type": "markdown",
   "metadata": {
    "slideshow": {
     "slide_type": "slide"
    }
   },
   "source": [
    "# Another Example: Price vs Conversion Continued\n",
    "<br>\n",
    "\n",
    "\n",
    "- What are our samples?\n",
    " - 1 = Conversion\n",
    " - 0 = No conversion\n",
    " \n",
    "- How many samples are there?"
   ]
  },
  {
   "cell_type": "code",
   "execution_count": 55,
   "metadata": {
    "slideshow": {
     "slide_type": "fragment"
    }
   },
   "outputs": [
    {
     "data": {
      "text/plain": [
       "46327"
      ]
     },
     "execution_count": 55,
     "metadata": {},
     "output_type": "execute_result"
    }
   ],
   "source": [
    "n = df.sum().sum()\n",
    "n"
   ]
  },
  {
   "cell_type": "markdown",
   "metadata": {
    "slideshow": {
     "slide_type": "slide"
    }
   },
   "source": [
    "# Another Example: Price vs Conversion Continued\n",
    "<br>\n",
    "\n",
    "\n",
    "- Turning counts into samples"
   ]
  },
  {
   "cell_type": "code",
   "execution_count": 56,
   "metadata": {
    "slideshow": {
     "slide_type": "fragment"
    }
   },
   "outputs": [
    {
     "data": {
      "text/plain": [
       "382"
      ]
     },
     "execution_count": 56,
     "metadata": {},
     "output_type": "execute_result"
    }
   ],
   "source": [
    "n_conversion = df.loc['Conversion'].sum()\n",
    "n_conversion\n"
   ]
  },
  {
   "cell_type": "code",
   "execution_count": 57,
   "metadata": {
    "slideshow": {
     "slide_type": "fragment"
    }
   },
   "outputs": [],
   "source": [
    "conv_samples = np.zeros(n)\n",
    "conv_samples[:n_conversion] = 1\n",
    "\n",
    "assert sum(conv_samples) == n_conversion"
   ]
  },
  {
   "cell_type": "code",
   "execution_count": 58,
   "metadata": {
    "slideshow": {
     "slide_type": "fragment"
    }
   },
   "outputs": [
    {
     "data": {
      "text/plain": [
       "array([1., 1., 1., ..., 0., 0., 0.])"
      ]
     },
     "execution_count": 58,
     "metadata": {},
     "output_type": "execute_result"
    }
   ],
   "source": [
    "conv_samples"
   ]
  },
  {
   "cell_type": "markdown",
   "metadata": {
    "slideshow": {
     "slide_type": "slide"
    }
   },
   "source": [
    "# Another Example: Price vs Conversion Continued\n",
    "<br>\n",
    "\n"
   ]
  },
  {
   "cell_type": "code",
   "execution_count": 59,
   "metadata": {},
   "outputs": [
    {
     "data": {
      "text/html": [
       "<div>\n",
       "<style scoped>\n",
       "    .dataframe tbody tr th:only-of-type {\n",
       "        vertical-align: middle;\n",
       "    }\n",
       "\n",
       "    .dataframe tbody tr th {\n",
       "        vertical-align: top;\n",
       "    }\n",
       "\n",
       "    .dataframe thead th {\n",
       "        text-align: right;\n",
       "    }\n",
       "</style>\n",
       "<table border=\"1\" class=\"dataframe\">\n",
       "  <thead>\n",
       "    <tr style=\"text-align: right;\">\n",
       "      <th></th>\n",
       "      <th>Price A</th>\n",
       "      <th>Price B</th>\n",
       "    </tr>\n",
       "  </thead>\n",
       "  <tbody>\n",
       "    <tr>\n",
       "      <th>Conversion</th>\n",
       "      <td>200</td>\n",
       "      <td>182</td>\n",
       "    </tr>\n",
       "    <tr>\n",
       "      <th>No Conversion</th>\n",
       "      <td>23539</td>\n",
       "      <td>22406</td>\n",
       "    </tr>\n",
       "  </tbody>\n",
       "</table>\n",
       "</div>"
      ],
      "text/plain": [
       "               Price A  Price B\n",
       "Conversion         200      182\n",
       "No Conversion    23539    22406"
      ]
     },
     "execution_count": 59,
     "metadata": {},
     "output_type": "execute_result"
    }
   ],
   "source": [
    "df"
   ]
  },
  {
   "cell_type": "code",
   "execution_count": 60,
   "metadata": {
    "slideshow": {
     "slide_type": "fragment"
    }
   },
   "outputs": [
    {
     "name": "stdout",
     "output_type": "stream",
     "text": [
      "n_pricea=23739 n_priceb=22588 n=46327\n"
     ]
    }
   ],
   "source": [
    "n_pricea, n_priceb = df.sum(axis=0)\n",
    "print(f'{n_pricea=} {n_priceb=} {n=}')\n",
    "\n",
    "assert n_pricea + n_priceb == n"
   ]
  },
  {
   "cell_type": "code",
   "execution_count": 61,
   "metadata": {
    "slideshow": {
     "slide_type": "fragment"
    }
   },
   "outputs": [
    {
     "data": {
      "application/vnd.jupyter.widget-view+json": {
       "model_id": "3765f3682ff5400b8d836ddf32d53d6d",
       "version_major": 2,
       "version_minor": 0
      },
      "text/plain": [
       "  0%|          | 0/1000 [00:00<?, ?it/s]"
      ]
     },
     "metadata": {},
     "output_type": "display_data"
    }
   ],
   "source": [
    "np.random.seed(123)\n",
    "rand_conv_diffs = []\n",
    "for i in tqdm(range(1000)):\n",
    "    conv_permuted = np.random.permutation(conv_samples)\n",
    "    rand_conv_a = sum(conv_permuted[:n_pricea]) / n_pricea\n",
    "    rand_conv_b = sum(conv_permuted[n_pricea:]) / n_priceb\n",
    "    rand_conv_diffs.append(100 * (rand_conv_a - rand_conv_b))"
   ]
  },
  {
   "cell_type": "markdown",
   "metadata": {
    "slideshow": {
     "slide_type": "slide"
    }
   },
   "source": [
    "# Another Example: Price vs Conversion Continued\n",
    "<br>\n"
   ]
  },
  {
   "cell_type": "code",
   "execution_count": 62,
   "metadata": {
    "slideshow": {
     "slide_type": "fragment"
    }
   },
   "outputs": [
    {
     "data": {
      "image/png": "[encoded data removed]",
      "text/plain": [
       "<Figure size 1200x800 with 1 Axes>"
      ]
     },
     "metadata": {},
     "output_type": "display_data"
    }
   ],
   "source": [
    "fig,ax = plt.subplots(1,1,figsize=(12,8))\n",
    "ax = sns.histplot(x=rand_conv_diffs, stat='density')\n",
    "ax.axvline(diff_pct_conv,color='r');"
   ]
  },
  {
   "cell_type": "code",
   "execution_count": 63,
   "metadata": {
    "slideshow": {
     "slide_type": "fragment"
    }
   },
   "outputs": [
    {
     "data": {
      "text/plain": [
       "0.35"
      ]
     },
     "execution_count": 63,
     "metadata": {},
     "output_type": "execute_result"
    }
   ],
   "source": [
    "# calculate a two-tailed p-value\n",
    "sum(np.array(rand_conv_diffs) >= diff_pct_conv) / len(rand_conv_diffs)"
   ]
  },
  {
   "cell_type": "markdown",
   "metadata": {
    "slideshow": {
     "slide_type": "slide"
    }
   },
   "source": [
    "# Equation Based Proportion Test\n",
    "<br>\n"
   ]
  },
  {
   "cell_type": "code",
   "execution_count": 64,
   "metadata": {
    "slideshow": {
     "slide_type": "fragment"
    }
   },
   "outputs": [
    {
     "name": "stdout",
     "output_type": "stream",
     "text": [
      "p = 0.662\n"
     ]
    }
   ],
   "source": [
    "from statsmodels.stats.proportion import proportions_ztest\n",
    "\n",
    "z,p = proportions_ztest(df.loc['Conversion'].values,\n",
    "                        df.sum(),\n",
    "                        alternative='two-sided')\n",
    "print(f'{p = :0.3f}')"
   ]
  },
  {
   "cell_type": "markdown",
   "metadata": {
    "slideshow": {
     "slide_type": "slide"
    }
   },
   "source": [
    "# Statistically Significant?\n",
    "<br>\n",
    "\n",
    "[**The ASA Statement on p-Values: Context, Process, and Purpose**](https://www.tandfonline.com/doi/full/10.1080/00031305.2016.1154108) Wasserstein &amp; Lazar, 09 Jun 2016]\n",
    "\n",
    "\n",
    "- Don’t base your conclusions solely on whether an association or effect was found to be “statistically significant” (i.e., the p-value passed some arbitrary threshold such as p &lt; 0.05).\n",
    "\n",
    "\n",
    "- Don’t believe an association/effect **exists** just because it **was statistically significant**.\n",
    "\n",
    "\n",
    "- Don’t believe an association/effect **is absent** just because it **was not stat. significant**.\n",
    "\n",
    "\n",
    "- Don’t believe that your p-value:\n",
    "    1. gives the **probability that chance alone** produced the observed association/effect or\n",
    "    2. the probability that your **test hypothesis is true**.]\n",
    "\n",
    "\n",
    "- Don’t conclude anything about **scientific or practical importance** based on statistical significance (or lack thereof).\n"
   ]
  },
  {
   "cell_type": "markdown",
   "metadata": {
    "slideshow": {
     "slide_type": "slide"
    }
   },
   "source": [
    "# Statistically Significant?\n",
    "<br>\n",
    "\n",
    "\n",
    "- [**Moving to a World Beyond “p &lt; 0.05”**](https://www.tandfonline.com/doi/full/10.1080/00031305.2019.1583913) Wasserstein, Schirm &amp; Lazar, 20 Mar 2019\n",
    " - Try to avoid “Statistically Significant”\n",
    "\n",
    " - “**A**ccept uncertainty. Be **t**houghtful, **o**pen, and **m**odest.” Remember “**ATOM**.”"
   ]
  },
  {
   "cell_type": "markdown",
   "metadata": {
    "slideshow": {
     "slide_type": "fragment"
    }
   },
   "source": [
    "- ATOM\n",
    " - **A:** Seek better measures, more sensitive designs, larger samples\n",
    "<br>\n",
    "<br>\n",
    " - **T:** Begin with clearly expressed objectives\n",
    " - **T:** Ask \"What are the practical implications?\"\n",
    "<br>\n",
    "<br>\n",
    " - **O:**: Be open/transparent in analysis and communication\n",
    "<br>\n",
    "<br>\n",
    " - **M:** Accept limititaions, assumptions, reproduction, recognizing differences in stakes"
   ]
  },
  {
   "cell_type": "markdown",
   "metadata": {
    "slideshow": {
     "slide_type": "slide"
    }
   },
   "source": [
    "# Issues with Multiple Testing\n",
    "<br>\n",
    "\n",
    "- p-hacking: keep trying comparisons till you find something that works\n",
    "\n",
    "\n",
    "- multiple tests: the more tests you run, the more likely a Type 1 Error\n",
    "\n",
    "\n",
    "- One simple solution: \n",
    " - **Bonferonni correction** $\\frac{\\alpha}{m}$ where $m$ is the number of tests"
   ]
  },
  {
   "cell_type": "markdown",
   "metadata": {
    "slideshow": {
     "slide_type": "slide"
    }
   },
   "source": [
    "# Comparing More Than 2 Groups\n",
    "\n",
    "- ANOVA\n",
    " - need more stats than we have time for\n",
    "        \n",
    "- Multi-Armed Bandit (MAB)\n",
    " - can compare many distributions\n",
    " - don't need to make assumptions about underlying distributions\n",
    " - can also be used for early stopping of experiment"
   ]
  },
  {
   "cell_type": "markdown",
   "metadata": {
    "slideshow": {
     "slide_type": "slide"
    }
   },
   "source": [
    "# Multi-Armed Bandit\n",
    "<br>\n",
    "\n",
    "<div align=\"center\"><img src=\"https://cdn.psychologytoday.com/sites/default/files/field_blog_entry_images/2019-07/casino-3491252_1920.jpg\" width=\"600px\"></div>\n",
    "\n",
    "\n",
    "**Question:** Which arm should we pull?"
   ]
  },
  {
   "cell_type": "markdown",
   "metadata": {
    "slideshow": {
     "slide_type": "slide"
    }
   },
   "source": [
    "# Greedy MAB\n",
    "\n",
    "**greedy:** do something simple that heads towards the goal\n",
    "\n",
    "\n",
    "1. pull arm with highest payout\n",
    "\n",
    "\n",
    "But what if there's a better choice, we just haven't seen it yet?"
   ]
  },
  {
   "attachments": {
    "image.png": {
     "image/png": "[encoded data removed]"
    }
   },
   "cell_type": "markdown",
   "metadata": {
    "slideshow": {
     "slide_type": "slide"
    }
   },
   "source": [
    "# Exploration Vs Exploitation\n",
    "<br>\n",
    "\n",
    "- **Exploration:** There might be a better arm\n",
    " - keep choosing different arms randomly\n",
    "<br>\n",
    "<br>\n",
    "\n",
    "- **Exploitation:** We want to make use of the best\n",
    " - keep pulling the best arm\n",
    " \n",
    " ![image.png](attachment:image.png)"
   ]
  },
  {
   "cell_type": "markdown",
   "metadata": {
    "slideshow": {
     "slide_type": "slide"
    }
   },
   "source": [
    "# $\\epsilon$-Greedy MAB\n",
    "<br>\n",
    "- choose a small epsilon ($\\epsilon$) between 0 and 1\n",
    "<br>"
   ]
  },
  {
   "cell_type": "markdown",
   "metadata": {
    "slideshow": {
     "slide_type": "fragment"
    }
   },
   "source": [
    "1. generate random number between 0 and 1\n",
    "2. if < ϵ, choose arm randomly\n",
    "3. if ≥ ϵ, choose best arm\n",
    "4. GOTO 1\n",
    "\n",
    "<br>\n",
    "- larger $\\epsilon$ -> more exploration"
   ]
  },
  {
   "cell_type": "markdown",
   "metadata": {
    "slideshow": {
     "slide_type": "slide"
    }
   },
   "source": [
    "# MAB Example\n",
    "<br>\n",
    "\n",
    "- We have three ads\n",
    "- We don't know how often each will lead to a response\n",
    "- We need to decide which ad to add to each page request"
   ]
  },
  {
   "cell_type": "code",
   "execution_count": 65,
   "metadata": {
    "slideshow": {
     "slide_type": "fragment"
    }
   },
   "outputs": [],
   "source": [
    "# creating three ads (distributions) with unknown response rate\n",
    "np.random.seed(13)\n",
    "ad_A = sp.stats.bernoulli(p=np.random.rand())\n",
    "ad_B = sp.stats.bernoulli(p=np.random.rand())\n",
    "ad_C = sp.stats.bernoulli(p=np.random.rand())"
   ]
  },
  {
   "cell_type": "markdown",
   "metadata": {
    "slideshow": {
     "slide_type": "fragment"
    }
   },
   "source": [
    "- We'll use an $\\epsilon$-greedy MAB to decide which ad to show"
   ]
  },
  {
   "cell_type": "code",
   "execution_count": 66,
   "metadata": {
    "slideshow": {
     "slide_type": "fragment"
    }
   },
   "outputs": [],
   "source": [
    "# epsilon probability\n",
    "epsilon = 0.40"
   ]
  },
  {
   "cell_type": "markdown",
   "metadata": {
    "slideshow": {
     "slide_type": "slide"
    }
   },
   "source": [
    "# MAB Example Continued\n",
    "<br>"
   ]
  },
  {
   "cell_type": "markdown",
   "metadata": {
    "slideshow": {
     "slide_type": "fragment"
    }
   },
   "source": [
    "- Rounds 1,2,3\n",
    " - Pull each arm once"
   ]
  },
  {
   "cell_type": "code",
   "execution_count": 67,
   "metadata": {
    "slideshow": {
     "slide_type": "fragment"
    }
   },
   "outputs": [
    {
     "data": {
      "text/plain": [
       "([0], [1], [1])"
      ]
     },
     "execution_count": 67,
     "metadata": {},
     "output_type": "execute_result"
    }
   ],
   "source": [
    "rewards_A = [ad_A.rvs()]\n",
    "\n",
    "rewards_B = [ad_B.rvs()]\n",
    "\n",
    "rewards_C = [ad_C.rvs()]\n",
    "\n",
    "rewards_A,rewards_B,rewards_C"
   ]
  },
  {
   "cell_type": "markdown",
   "metadata": {
    "slideshow": {
     "slide_type": "slide"
    }
   },
   "source": [
    "# MAB Example Continued\n",
    "<br>"
   ]
  },
  {
   "cell_type": "markdown",
   "metadata": {
    "slideshow": {
     "slide_type": "fragment"
    }
   },
   "source": [
    "- Round 3\n",
    " - With probability $1-\\epsilon$, choose the best arm (randomly if tied)"
   ]
  },
  {
   "cell_type": "code",
   "execution_count": 68,
   "metadata": {
    "slideshow": {
     "slide_type": "fragment"
    }
   },
   "outputs": [
    {
     "data": {
      "text/plain": [
       "True"
      ]
     },
     "execution_count": 68,
     "metadata": {},
     "output_type": "execute_result"
    }
   ],
   "source": [
    "be_greedy = np.random.rand() > epsilon\n",
    "be_greedy"
   ]
  },
  {
   "cell_type": "code",
   "execution_count": 69,
   "metadata": {
    "slideshow": {
     "slide_type": "fragment"
    }
   },
   "outputs": [
    {
     "data": {
      "text/plain": [
       "'B'"
      ]
     },
     "execution_count": 69,
     "metadata": {},
     "output_type": "execute_result"
    }
   ],
   "source": [
    "best_arms = ['B','C']\n",
    "best_arms[np.random.randint(2)]\n",
    "# np.random.randint(2) randomly choose 0 or 1 "
   ]
  },
  {
   "cell_type": "code",
   "execution_count": 70,
   "metadata": {
    "slideshow": {
     "slide_type": "fragment"
    }
   },
   "outputs": [
    {
     "data": {
      "text/plain": [
       "([0], [1, 1], [1])"
      ]
     },
     "execution_count": 70,
     "metadata": {},
     "output_type": "execute_result"
    }
   ],
   "source": [
    "rewards_B.append(ad_B.rvs())\n",
    "\n",
    "rewards_A,rewards_B,rewards_C"
   ]
  },
  {
   "cell_type": "markdown",
   "metadata": {
    "slideshow": {
     "slide_type": "slide"
    }
   },
   "source": [
    "# MAB Example Continued\n",
    "<br>"
   ]
  },
  {
   "cell_type": "raw",
   "metadata": {
    "slideshow": {
     "slide_type": "skip"
    }
   },
   "source": [
    "def mab(ad_A,ad_B,pulls_A,pulls_B,epsilon):\n",
    "    be_greedy = np.random.rand() > epsilon\n",
    "    if not be_greedy: # randomly choose\n",
    "        if np.random.rand() < 0.5:\n",
    "            pulls_A.append(ad_A.rvs())\n",
    "            choice = 'A'\n",
    "        else:\n",
    "            pulls_B.append(ad_B.rvs())\n",
    "            choice = 'B'\n",
    "    else: # be greedy\n",
    "        resp_A = sum(pulls_A) / len(pulls_A)\n",
    "        resp_B = sum(pulls_B) / len(pulls_B)\n",
    "        if resp_A > resp_B:\n",
    "            pulls_A.append(ad_A.rvs())\n",
    "            choice = 'A'\n",
    "        else:\n",
    "            pulls_B.append(ad_B.rvs())\n",
    "            choice = 'B'\n",
    "    return pulls_A, pulls_B, be_greedy, choice"
   ]
  },
  {
   "cell_type": "raw",
   "metadata": {
    "slideshow": {
     "slide_type": "skip"
    }
   },
   "source": [
    "pulls_A, pulls_B, be_greedy, choice = mab(ad_A,\n",
    "                                          ad_B,\n",
    "                                          pulls_A,\n",
    "                                          pulls_B,\n",
    "                                          epsilon)\n",
    "print(f'{str(be_greedy):5s} {choice} => '+\n",
    "          f'{np.mean(pulls_A):0.2f}:{np.mean(pulls_B):0.2f} {str(pulls_A):20s}, {str(pulls_B):20s}')"
   ]
  },
  {
   "cell_type": "code",
   "execution_count": 71,
   "metadata": {
    "slideshow": {
     "slide_type": "fragment"
    }
   },
   "outputs": [],
   "source": [
    "def mab(arms = [],rewards = [],arm_names = [],epsilon=0.4):\n",
    "    n_arms = len(arms)\n",
    "#     if not rewards:\n",
    "#         for i in range(n_arms):\n",
    "#             pulls.append(list)\n",
    "    be_greedy = np.random.rand() > epsilon\n",
    "    if not be_greedy: # randomly choose\n",
    "        arm_idx = np.random.randint(0,n_arms)\n",
    "        rewards[arm_idx].append(arms[arm_idx].rvs())\n",
    "    else: # be greedy\n",
    "        reward_means = np.array([sum(x)/len(x) for x in rewards])\n",
    "        best_arms = np.where(reward_means == np.amax(reward_means))[0]\n",
    "        arm_idx = best_arms[np.random.randint(0,best_arms.shape[0])]\n",
    "        rewards[arm_idx].append(arms[arm_idx].rvs())\n",
    "    return rewards, be_greedy, arm_names[arm_idx]\n",
    "\n",
    "def print_mab_results(be_greedy,choice,rewards):\n",
    "    print(f'greedy:{str(be_greedy):5s} choice:{choice} => '+\n",
    "          f\"[{':'.join([str(round(sum(x)/len(x),1)) for x in rewards])}] \"+\n",
    "          f\"| {','.join([str(x).ljust(20,' ') for x in rewards])}\")"
   ]
  },
  {
   "cell_type": "markdown",
   "metadata": {
    "slideshow": {
     "slide_type": "slide"
    }
   },
   "source": [
    "# MAB Example Continued\n",
    "<br>"
   ]
  },
  {
   "cell_type": "markdown",
   "metadata": {
    "slideshow": {
     "slide_type": "fragment"
    }
   },
   "source": [
    "- Round 4"
   ]
  },
  {
   "cell_type": "code",
   "execution_count": 72,
   "metadata": {},
   "outputs": [
    {
     "name": "stdout",
     "output_type": "stream",
     "text": [
      "greedy:False choice:C => [0.0:1.0:1.0] | [0]                 ,[1, 1]              ,[1, 1]              \n"
     ]
    }
   ],
   "source": [
    "arms = [ad_A,ad_B,ad_C]\n",
    "rewards = [rewards_A,rewards_B,rewards_C]\n",
    "labels = ['A','B','C']\n",
    "\n",
    "rewards, be_greedy, choice = mab(arms,rewards,labels,epsilon)\n",
    "\n",
    "print_mab_results(be_greedy,choice,rewards)"
   ]
  },
  {
   "cell_type": "markdown",
   "metadata": {
    "slideshow": {
     "slide_type": "slide"
    }
   },
   "source": [
    "# MAB Example Continued\n",
    "<br>"
   ]
  },
  {
   "cell_type": "code",
   "execution_count": 73,
   "metadata": {
    "slideshow": {
     "slide_type": "fragment"
    }
   },
   "outputs": [
    {
     "name": "stdout",
     "output_type": "stream",
     "text": [
      "greedy:False choice:A => [0.5:1.0:1.0] | [0, 1]              ,[1, 1]              ,[1, 1]              \n",
      "greedy:True  choice:B => [0.5:0.7:1.0] | [0, 1]              ,[1, 1, 0]           ,[1, 1]              \n",
      "greedy:False choice:A => [0.3:0.7:1.0] | [0, 1, 0]           ,[1, 1, 0]           ,[1, 1]              \n",
      "greedy:True  choice:C => [0.3:0.7:1.0] | [0, 1, 0]           ,[1, 1, 0]           ,[1, 1, 1]           \n",
      "greedy:True  choice:C => [0.3:0.7:0.8] | [0, 1, 0]           ,[1, 1, 0]           ,[1, 1, 1, 0]        \n",
      "greedy:True  choice:C => [0.3:0.7:0.8] | [0, 1, 0]           ,[1, 1, 0]           ,[1, 1, 1, 0, 1]     \n",
      "greedy:True  choice:C => [0.3:0.7:0.8] | [0, 1, 0]           ,[1, 1, 0]           ,[1, 1, 1, 0, 1, 1]  \n",
      "greedy:False choice:B => [0.3:0.5:0.8] | [0, 1, 0]           ,[1, 1, 0, 0]        ,[1, 1, 1, 0, 1, 1]  \n",
      "greedy:True  choice:C => [0.3:0.5:0.9] | [0, 1, 0]           ,[1, 1, 0, 0]        ,[1, 1, 1, 0, 1, 1, 1]\n",
      "greedy:False choice:C => [0.3:0.5:0.9] | [0, 1, 0]           ,[1, 1, 0, 0]        ,[1, 1, 1, 0, 1, 1, 1, 1]\n"
     ]
    }
   ],
   "source": [
    "for i in range(10):\n",
    "    rewards, be_greedy, choice = mab(arms,rewards,labels,epsilon)\n",
    "    print_mab_results(be_greedy,choice,rewards)"
   ]
  },
  {
   "cell_type": "markdown",
   "metadata": {
    "slideshow": {
     "slide_type": "slide"
    }
   },
   "source": [
    "# MAB Example Continued\n",
    "<br>"
   ]
  },
  {
   "cell_type": "markdown",
   "metadata": {
    "slideshow": {
     "slide_type": "fragment"
    }
   },
   "source": [
    "- Which arm seems best?"
   ]
  },
  {
   "cell_type": "code",
   "execution_count": 74,
   "metadata": {
    "slideshow": {
     "slide_type": "fragment"
    }
   },
   "outputs": [
    {
     "name": "stdout",
     "output_type": "stream",
     "text": [
      "conversion rates: A:0.3 B:0.5 C:0.9\n"
     ]
    }
   ],
   "source": [
    "rates = ' '.join([f\"{label}:{np.mean(reward).round(1)}\" for label,reward in zip(labels,rewards)])\n",
    "print(f\"conversion rates: {rates}\")"
   ]
  },
  {
   "cell_type": "markdown",
   "metadata": {
    "slideshow": {
     "slide_type": "fragment"
    }
   },
   "source": [
    "- Did we pick the best one?"
   ]
  },
  {
   "cell_type": "code",
   "execution_count": 75,
   "metadata": {
    "slideshow": {
     "slide_type": "fragment"
    }
   },
   "outputs": [
    {
     "name": "stdout",
     "output_type": "stream",
     "text": [
      "ground truth: A:0.8 B:0.2 C:0.8\n"
     ]
    }
   ],
   "source": [
    "ground_truth_rates = ' '.join([f\"{label}:{arm.pmf(1).round(1)}\" for label,arm in zip(labels,arms)])\n",
    "print(f'ground truth: {ground_truth_rates}')"
   ]
  },
  {
   "cell_type": "markdown",
   "metadata": {
    "slideshow": {
     "slide_type": "slide"
    }
   },
   "source": [
    "# MAB Variations\n",
    "<br>\n",
    "\n",
    "\n",
    "- Thompson's Sampling: uses Baysian approach\n",
    "\n",
    "- UCB1: maximize expected reward using Upper Confidence Bounds\n",
    "\n",
    "- ...\n"
   ]
  },
  {
   "cell_type": "markdown",
   "metadata": {
    "slideshow": {
     "slide_type": "slide"
    }
   },
   "source": [
    "<br>\n",
    "<br>\n",
    "\n",
    "# <center>Questions?</center>\n",
    "<br>\n",
    "<br>"
   ]
  }
 ],
 "metadata": {
  "celltoolbar": "Slideshow",
  "kernelspec": {
   "display_name": "Python 3 (ipykernel)",
   "language": "python",
   "name": "python3"
  },
  "language_info": {
   "codemirror_mode": {
    "name": "ipython",
    "version": 3
   },
   "file_extension": ".py",
   "mimetype": "text/x-python",
   "name": "python",
   "nbconvert_exporter": "python",
   "pygments_lexer": "ipython3",
   "version": "3.8.15"
  },
  "toc": {
   "base_numbering": 1,
   "nav_menu": {},
   "number_sections": false,
   "sideBar": true,
   "skip_h1_title": false,
   "title_cell": "Table of Contents",
   "title_sidebar": "Contents",
   "toc_cell": false,
   "toc_position": {},
   "toc_section_display": true,
   "toc_window_display": false
  }
 },
 "nbformat": 4,
 "nbformat_minor": 4
}
